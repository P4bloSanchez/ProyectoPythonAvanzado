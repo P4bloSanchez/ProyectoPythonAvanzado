{
 "cells": [
  {
   "cell_type": "markdown",
   "id": "d47ebb22",
   "metadata": {},
   "source": [
    "# Modulos"
   ]
  },
  {
   "cell_type": "markdown",
   "id": "1986509d",
   "metadata": {},
   "source": [
    "## Importando modulo con operaciones básicas"
   ]
  },
  {
   "cell_type": "code",
   "execution_count": 9,
   "id": "769ac588",
   "metadata": {},
   "outputs": [],
   "source": [
    "import MeiModules.Calculadora.Math as mt"
   ]
  },
  {
   "cell_type": "code",
   "execution_count": 13,
   "id": "c1070355",
   "metadata": {},
   "outputs": [
    {
     "data": {
      "text/plain": [
       "7"
      ]
     },
     "execution_count": 13,
     "metadata": {},
     "output_type": "execute_result"
    }
   ],
   "source": [
    "mt.suma(3,4)"
   ]
  },
  {
   "cell_type": "code",
   "execution_count": 14,
   "id": "641cf743",
   "metadata": {},
   "outputs": [
    {
     "data": {
      "text/plain": [
       "6"
      ]
     },
     "execution_count": 14,
     "metadata": {},
     "output_type": "execute_result"
    }
   ],
   "source": [
    "mt.resta(10,4)"
   ]
  },
  {
   "cell_type": "code",
   "execution_count": 15,
   "id": "b30054a0",
   "metadata": {},
   "outputs": [
    {
     "data": {
      "text/plain": [
       "48"
      ]
     },
     "execution_count": 15,
     "metadata": {},
     "output_type": "execute_result"
    }
   ],
   "source": [
    "mt.multi(6,8)"
   ]
  },
  {
   "cell_type": "code",
   "execution_count": 16,
   "id": "9e014b3b",
   "metadata": {},
   "outputs": [
    {
     "data": {
      "text/plain": [
       "4.0"
      ]
     },
     "execution_count": 16,
     "metadata": {},
     "output_type": "execute_result"
    }
   ],
   "source": [
    "mt.division(100,25)"
   ]
  },
  {
   "cell_type": "code",
   "execution_count": null,
   "id": "4e31c9ab",
   "metadata": {},
   "outputs": [],
   "source": []
  }
 ],
 "metadata": {
  "kernelspec": {
   "display_name": "Python 3 (ipykernel)",
   "language": "python",
   "name": "python3"
  },
  "language_info": {
   "codemirror_mode": {
    "name": "ipython",
    "version": 3
   },
   "file_extension": ".py",
   "mimetype": "text/x-python",
   "name": "python",
   "nbconvert_exporter": "python",
   "pygments_lexer": "ipython3",
   "version": "3.11.5"
  }
 },
 "nbformat": 4,
 "nbformat_minor": 5
}
