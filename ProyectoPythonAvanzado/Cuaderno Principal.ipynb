{
 "cells": [
  {
   "cell_type": "markdown",
   "id": "d47ebb22",
   "metadata": {},
   "source": [
    "# Modulos"
   ]
  },
  {
   "cell_type": "markdown",
   "id": "1986509d",
   "metadata": {},
   "source": [
    "## Importando modulo con operaciones básicas"
   ]
  },
  {
   "cell_type": "code",
   "execution_count": 20,
   "id": "769ac588",
   "metadata": {},
   "outputs": [],
   "source": [
    "import MeiModules.Calculadora.Math as mt"
   ]
  },
  {
   "cell_type": "code",
   "execution_count": 21,
   "id": "c1070355",
   "metadata": {},
   "outputs": [
    {
     "data": {
      "text/plain": [
       "7"
      ]
     },
     "execution_count": 21,
     "metadata": {},
     "output_type": "execute_result"
    }
   ],
   "source": [
    "mt.suma(3,4)"
   ]
  },
  {
   "cell_type": "code",
   "execution_count": 22,
   "id": "641cf743",
   "metadata": {},
   "outputs": [
    {
     "data": {
      "text/plain": [
       "6"
      ]
     },
     "execution_count": 22,
     "metadata": {},
     "output_type": "execute_result"
    }
   ],
   "source": [
    "mt.resta(10,4)"
   ]
  },
  {
   "cell_type": "code",
   "execution_count": 23,
   "id": "b30054a0",
   "metadata": {},
   "outputs": [
    {
     "data": {
      "text/plain": [
       "48"
      ]
     },
     "execution_count": 23,
     "metadata": {},
     "output_type": "execute_result"
    }
   ],
   "source": [
    "mt.multi(6,8)"
   ]
  },
  {
   "cell_type": "code",
   "execution_count": 24,
   "id": "9e014b3b",
   "metadata": {},
   "outputs": [
    {
     "data": {
      "text/plain": [
       "4.0"
      ]
     },
     "execution_count": 24,
     "metadata": {},
     "output_type": "execute_result"
    }
   ],
   "source": [
    "mt.division(100,25)"
   ]
  },
  {
   "cell_type": "markdown",
   "id": "d7923b65",
   "metadata": {},
   "source": [
    "## Importando modulos para introducir rutas y verificarlas"
   ]
  },
  {
   "cell_type": "code",
   "execution_count": 2,
   "id": "1fa84781",
   "metadata": {},
   "outputs": [],
   "source": [
    "import MeiModules.Conector.Rutas as routes"
   ]
  },
  {
   "cell_type": "code",
   "execution_count": 5,
   "id": "146b2aa4",
   "metadata": {},
   "outputs": [],
   "source": [
    "routes.meterRuta('/Users/pablosanchez/Desktop/Dia2/calculos/sistema_eeuu')"
   ]
  },
  {
   "cell_type": "code",
   "execution_count": 6,
   "id": "931744b2",
   "metadata": {},
   "outputs": [],
   "source": [
    "import conversionesAlIngles as converEn"
   ]
  },
  {
   "cell_type": "code",
   "execution_count": 15,
   "id": "5ad89440",
   "metadata": {},
   "outputs": [
    {
     "name": "stdout",
     "output_type": "stream",
     "text": [
      "14 grados Celsius son 57.2 grados Fahrenheit\n"
     ]
    },
    {
     "data": {
      "text/plain": [
       "57.2"
      ]
     },
     "execution_count": 15,
     "metadata": {},
     "output_type": "execute_result"
    }
   ],
   "source": [
    "converEn.celsius_a_fahrenheit(14)"
   ]
  },
  {
   "cell_type": "code",
   "execution_count": 8,
   "id": "f36422a5",
   "metadata": {},
   "outputs": [],
   "source": [
    "import MeiModules.Verificar.ChecarRutas as check"
   ]
  },
  {
   "cell_type": "code",
   "execution_count": 9,
   "id": "a2ddf895",
   "metadata": {
    "scrolled": true
   },
   "outputs": [
    {
     "data": {
      "text/plain": [
       "['/Users/pablosanchez/Desktop/ProyectoPythonAvanzado',\n",
       " '/Users/pablosanchez/anaconda3/lib/python311.zip',\n",
       " '/Users/pablosanchez/anaconda3/lib/python3.11',\n",
       " '/Users/pablosanchez/anaconda3/lib/python3.11/lib-dynload',\n",
       " '',\n",
       " '/Users/pablosanchez/anaconda3/lib/python3.11/site-packages',\n",
       " '/Users/pablosanchez/anaconda3/lib/python3.11/site-packages/aeosa',\n",
       " '/Desktop/Dia2/calculos/sistema_eeuu',\n",
       " '/Users/pablosanchez/Desktop/Dia2/calculos/sistema_eeuu']"
      ]
     },
     "execution_count": 9,
     "metadata": {},
     "output_type": "execute_result"
    }
   ],
   "source": [
    "check.verificarArgumentos()"
   ]
  },
  {
   "cell_type": "markdown",
   "id": "ffb6858d",
   "metadata": {},
   "source": [
    "# Numpy"
   ]
  },
  {
   "cell_type": "code",
   "execution_count": 15,
   "id": "04bb88e6",
   "metadata": {},
   "outputs": [],
   "source": [
    "import numpy as np"
   ]
  },
  {
   "cell_type": "code",
   "execution_count": 25,
   "id": "df4aba20",
   "metadata": {},
   "outputs": [],
   "source": [
    "A = np.array([4,5,6])\n",
    "B = np.array([7,9,1])\n",
    "C = np.array([2,1,5])"
   ]
  },
  {
   "cell_type": "code",
   "execution_count": 26,
   "id": "c3eab5da",
   "metadata": {},
   "outputs": [
    {
     "data": {
      "text/plain": [
       "-55"
      ]
     },
     "execution_count": 26,
     "metadata": {},
     "output_type": "execute_result"
    }
   ],
   "source": [
    "#Producto AxB•C\n",
    "np.dot(np.cross(A,B),C)"
   ]
  },
  {
   "cell_type": "code",
   "execution_count": 27,
   "id": "183e73aa",
   "metadata": {},
   "outputs": [
    {
     "data": {
      "text/plain": [
       "55"
      ]
     },
     "execution_count": 27,
     "metadata": {},
     "output_type": "execute_result"
    }
   ],
   "source": [
    "#Producto AxC•D\n",
    "np.dot(np.cross(A,C),B)"
   ]
  },
  {
   "cell_type": "markdown",
   "id": "0ea5a206",
   "metadata": {},
   "source": [
    "#### Conclusion: Tanto AxB•C y AxC•D, no son reciprocos"
   ]
  },
  {
   "cell_type": "markdown",
   "id": "9572f15c",
   "metadata": {},
   "source": [
    "## Construyendo matrices de 100x100 y operando con ellas"
   ]
  },
  {
   "cell_type": "code",
   "execution_count": 35,
   "id": "f6611dbe",
   "metadata": {},
   "outputs": [],
   "source": [
    "matriz1 = np.zeros((100,100))\n",
    "matriz2 = np.zeros((100,100))"
   ]
  },
  {
   "cell_type": "code",
   "execution_count": 36,
   "id": "5f405e48",
   "metadata": {},
   "outputs": [
    {
     "data": {
      "text/plain": [
       "array([[0., 0., 0., ..., 0., 0., 0.],\n",
       "       [0., 0., 0., ..., 0., 0., 0.],\n",
       "       [0., 0., 0., ..., 0., 0., 0.],\n",
       "       ...,\n",
       "       [0., 0., 0., ..., 0., 0., 0.],\n",
       "       [0., 0., 0., ..., 0., 0., 0.],\n",
       "       [0., 0., 0., ..., 0., 0., 0.]])"
      ]
     },
     "execution_count": 36,
     "metadata": {},
     "output_type": "execute_result"
    }
   ],
   "source": [
    "matriz1"
   ]
  },
  {
   "cell_type": "code",
   "execution_count": 37,
   "id": "1d5e83b7",
   "metadata": {},
   "outputs": [],
   "source": [
    "def llenarMatriz(matriz):\n",
    "    for i in range(100):\n",
    "        for j in range(100):\n",
    "            matriz[i][j] = np.random.randint(0,1000)"
   ]
  },
  {
   "cell_type": "code",
   "execution_count": 38,
   "id": "1756d0d4",
   "metadata": {},
   "outputs": [],
   "source": [
    "llenarMatriz(matriz1)\n",
    "llenarMatriz(matriz2)"
   ]
  },
  {
   "cell_type": "code",
   "execution_count": 40,
   "id": "006054cf",
   "metadata": {},
   "outputs": [],
   "source": [
    "matriz3 = matriz1*matriz2"
   ]
  },
  {
   "cell_type": "code",
   "execution_count": 41,
   "id": "8279c825",
   "metadata": {},
   "outputs": [
    {
     "data": {
      "text/plain": [
       "array([[ 59796.,   2261., 124270., ..., 397716.,  43316., 365560.],\n",
       "       [404872.,  45990., 120228., ..., 557096., 460977.,  82497.],\n",
       "       [826137., 858945.,  92036., ...,   1630., 668528., 122388.],\n",
       "       ...,\n",
       "       [415360., 149112.,  91616., ..., 524700., 211497., 299018.],\n",
       "       [ 78084.,  34906., 115868., ...,  89708.,  10757., 151147.],\n",
       "       [ 85652., 219810., 119136., ..., 850096.,  12376., 233872.]])"
      ]
     },
     "execution_count": 41,
     "metadata": {},
     "output_type": "execute_result"
    }
   ],
   "source": [
    "matriz3"
   ]
  },
  {
   "cell_type": "code",
   "execution_count": 45,
   "id": "92ecd51e",
   "metadata": {},
   "outputs": [
    {
     "data": {
      "text/plain": [
       "inf"
      ]
     },
     "execution_count": 45,
     "metadata": {},
     "output_type": "execute_result"
    }
   ],
   "source": [
    "np.linalg.det(matriz3)"
   ]
  },
  {
   "cell_type": "markdown",
   "id": "cf0dd162",
   "metadata": {},
   "source": [
    "## Resolviendo un sistema de ecuaciones"
   ]
  },
  {
   "cell_type": "code",
   "execution_count": 47,
   "id": "3d99e1b4",
   "metadata": {},
   "outputs": [],
   "source": [
    "Sistema = np.array([[1,-4,0],\n",
    "                   [3,5,-6],\n",
    "                   [2,4,9]])"
   ]
  },
  {
   "cell_type": "code",
   "execution_count": 48,
   "id": "8cab65ab",
   "metadata": {},
   "outputs": [],
   "source": [
    "Soluciones = np.array([4,-9,2])"
   ]
  },
  {
   "cell_type": "code",
   "execution_count": 49,
   "id": "aeae905d",
   "metadata": {},
   "outputs": [],
   "source": [
    "x= np.linalg.solve(Sistema,Soluciones)"
   ]
  },
  {
   "cell_type": "code",
   "execution_count": 53,
   "id": "d25eb504",
   "metadata": {},
   "outputs": [
    {
     "name": "stdout",
     "output_type": "stream",
     "text": [
      "x = -1.8503717077085943e-16\n",
      "y = -0.9999999999999999\n",
      "z = 0.6666666666666667\n"
     ]
    }
   ],
   "source": [
    "print(f'x = {x[0]}')\n",
    "print(f'y = {x[1]}')\n",
    "print(f'z = {x[2]}')"
   ]
  },
  {
   "cell_type": "markdown",
   "id": "c7420499",
   "metadata": {},
   "source": [
    "# Matplotlib"
   ]
  },
  {
   "cell_type": "code",
   "execution_count": 1,
   "id": "d6749344",
   "metadata": {},
   "outputs": [],
   "source": [
    "import matplotlib.pyplot as plt"
   ]
  },
  {
   "cell_type": "code",
   "execution_count": 3,
   "id": "a31b653d",
   "metadata": {},
   "outputs": [
    {
     "data": {
      "image/png": "[encoded data removed]",
      "text/plain": [
       "<Figure size 640x480 with 1 Axes>"
      ]
     },
     "metadata": {},
     "output_type": "display_data"
    }
   ],
   "source": [
    "especies = ['Peces','Anfibios','Reptiles','Aves','Mamiferos']\n",
    "cantidad = [271,174,493,125,164]\n",
    "colores = ['cyan','green','yellow','blue','brown']\n",
    "plt.bar(especies,cantidad, color = colores)\n",
    "plt.xlabel('Grupos de vertebrados')\n",
    "plt.ylabel('Cantidad de especies')\n",
    "plt.title('Cantidad de especies de vertebrados endemicas de México')\n",
    "plt.show()"
   ]
  },
  {
   "cell_type": "markdown",
   "id": "d9d699a8",
   "metadata": {},
   "source": [
    "#### Fuente: https://www.biodiversidad.gob.mx/especies/endemicas"
   ]
  },
  {
   "cell_type": "markdown",
   "id": "6d01609d",
   "metadata": {},
   "source": [
    "# Pandas"
   ]
  },
  {
   "cell_type": "markdown",
   "id": "7c33bb60",
   "metadata": {},
   "source": [
    "## Extrayendo información del archivo"
   ]
  },
  {
   "cell_type": "code",
   "execution_count": 5,
   "id": "7a985f07",
   "metadata": {},
   "outputs": [],
   "source": [
    "import pandas as pd"
   ]
  },
  {
   "cell_type": "code",
   "execution_count": 6,
   "id": "2fe5f12c",
   "metadata": {
    "scrolled": true
   },
   "outputs": [],
   "source": [
    "arch = pd.read_csv('airline_passenger_satisfaction.csv')"
   ]
  },
  {
   "cell_type": "code",
   "execution_count": 7,
   "id": "b3f94f1c",
   "metadata": {},
   "outputs": [
    {
     "name": "stdout",
     "output_type": "stream",
     "text": [
      "<class 'pandas.core.frame.DataFrame'>\n",
      "RangeIndex: 129880 entries, 0 to 129879\n",
      "Data columns (total 23 columns):\n",
      " #   Column                             Non-Null Count   Dtype  \n",
      "---  ------                             --------------   -----  \n",
      " 0   Gender                             129880 non-null  object \n",
      " 1   customer_type                      129880 non-null  object \n",
      " 2   age                                129880 non-null  int64  \n",
      " 3   type_of_travel                     129880 non-null  object \n",
      " 4   customer_class                     129880 non-null  object \n",
      " 5   flight_distance                    129880 non-null  int64  \n",
      " 6   inflight_wifi_service              129880 non-null  int64  \n",
      " 7   departure_arrival_time_convenient  129880 non-null  int64  \n",
      " 8   ease_of_online_booking             129880 non-null  int64  \n",
      " 9   gate_location                      129880 non-null  int64  \n",
      " 10  food_and_drink                     129880 non-null  int64  \n",
      " 11  online_boarding                    129880 non-null  int64  \n",
      " 12  seat_comfort                       129880 non-null  int64  \n",
      " 13  inflight_entertainment             129880 non-null  int64  \n",
      " 14  onboard_service                    129880 non-null  int64  \n",
      " 15  leg_room_service                   129880 non-null  int64  \n",
      " 16  baggage_handling                   129880 non-null  int64  \n",
      " 17  checkin_service                    129880 non-null  int64  \n",
      " 18  inflight_service                   129880 non-null  int64  \n",
      " 19  cleanliness                        129880 non-null  int64  \n",
      " 20  departure_delay_in_minutes         129880 non-null  int64  \n",
      " 21  arrival_delay_in_minutes           129487 non-null  float64\n",
      " 22  satisfaction                       129880 non-null  object \n",
      "dtypes: float64(1), int64(17), object(5)\n",
      "memory usage: 22.8+ MB\n"
     ]
    }
   ],
   "source": [
    "arch.info()"
   ]
  },
  {
   "cell_type": "code",
   "execution_count": 8,
   "id": "7f6c9c37",
   "metadata": {},
   "outputs": [
    {
     "data": {
      "text/html": [
       "<div>\n",
       "<style scoped>\n",
       "    .dataframe tbody tr th:only-of-type {\n",
       "        vertical-align: middle;\n",
       "    }\n",
       "\n",
       "    .dataframe tbody tr th {\n",
       "        vertical-align: top;\n",
       "    }\n",
       "\n",
       "    .dataframe thead th {\n",
       "        text-align: right;\n",
       "    }\n",
       "</style>\n",
       "<table border=\"1\" class=\"dataframe\">\n",
       "  <thead>\n",
       "    <tr style=\"text-align: right;\">\n",
       "      <th></th>\n",
       "      <th>age</th>\n",
       "      <th>flight_distance</th>\n",
       "      <th>inflight_wifi_service</th>\n",
       "      <th>departure_arrival_time_convenient</th>\n",
       "      <th>ease_of_online_booking</th>\n",
       "      <th>gate_location</th>\n",
       "      <th>food_and_drink</th>\n",
       "      <th>online_boarding</th>\n",
       "      <th>seat_comfort</th>\n",
       "      <th>inflight_entertainment</th>\n",
       "      <th>onboard_service</th>\n",
       "      <th>leg_room_service</th>\n",
       "      <th>baggage_handling</th>\n",
       "      <th>checkin_service</th>\n",
       "      <th>inflight_service</th>\n",
       "      <th>cleanliness</th>\n",
       "      <th>departure_delay_in_minutes</th>\n",
       "      <th>arrival_delay_in_minutes</th>\n",
       "    </tr>\n",
       "  </thead>\n",
       "  <tbody>\n",
       "    <tr>\n",
       "      <th>count</th>\n",
       "      <td>129880.000000</td>\n",
       "      <td>129880.000000</td>\n",
       "      <td>129880.000000</td>\n",
       "      <td>129880.000000</td>\n",
       "      <td>129880.000000</td>\n",
       "      <td>129880.000000</td>\n",
       "      <td>129880.000000</td>\n",
       "      <td>129880.000000</td>\n",
       "      <td>129880.000000</td>\n",
       "      <td>129880.000000</td>\n",
       "      <td>129880.000000</td>\n",
       "      <td>129880.000000</td>\n",
       "      <td>129880.000000</td>\n",
       "      <td>129880.000000</td>\n",
       "      <td>129880.000000</td>\n",
       "      <td>129880.000000</td>\n",
       "      <td>129880.000000</td>\n",
       "      <td>129487.000000</td>\n",
       "    </tr>\n",
       "    <tr>\n",
       "      <th>mean</th>\n",
       "      <td>39.427957</td>\n",
       "      <td>1190.316392</td>\n",
       "      <td>2.728696</td>\n",
       "      <td>3.057599</td>\n",
       "      <td>2.756876</td>\n",
       "      <td>2.976925</td>\n",
       "      <td>3.204774</td>\n",
       "      <td>3.252633</td>\n",
       "      <td>3.441361</td>\n",
       "      <td>3.358077</td>\n",
       "      <td>3.383023</td>\n",
       "      <td>3.350878</td>\n",
       "      <td>3.632114</td>\n",
       "      <td>3.306267</td>\n",
       "      <td>3.642193</td>\n",
       "      <td>3.286326</td>\n",
       "      <td>14.713713</td>\n",
       "      <td>15.091129</td>\n",
       "    </tr>\n",
       "    <tr>\n",
       "      <th>std</th>\n",
       "      <td>15.119360</td>\n",
       "      <td>997.452477</td>\n",
       "      <td>1.329340</td>\n",
       "      <td>1.526741</td>\n",
       "      <td>1.401740</td>\n",
       "      <td>1.278520</td>\n",
       "      <td>1.329933</td>\n",
       "      <td>1.350719</td>\n",
       "      <td>1.319289</td>\n",
       "      <td>1.334049</td>\n",
       "      <td>1.287099</td>\n",
       "      <td>1.316252</td>\n",
       "      <td>1.180025</td>\n",
       "      <td>1.266185</td>\n",
       "      <td>1.176669</td>\n",
       "      <td>1.313682</td>\n",
       "      <td>38.071126</td>\n",
       "      <td>38.465650</td>\n",
       "    </tr>\n",
       "    <tr>\n",
       "      <th>min</th>\n",
       "      <td>7.000000</td>\n",
       "      <td>31.000000</td>\n",
       "      <td>0.000000</td>\n",
       "      <td>0.000000</td>\n",
       "      <td>0.000000</td>\n",
       "      <td>0.000000</td>\n",
       "      <td>0.000000</td>\n",
       "      <td>0.000000</td>\n",
       "      <td>0.000000</td>\n",
       "      <td>0.000000</td>\n",
       "      <td>0.000000</td>\n",
       "      <td>0.000000</td>\n",
       "      <td>1.000000</td>\n",
       "      <td>0.000000</td>\n",
       "      <td>0.000000</td>\n",
       "      <td>0.000000</td>\n",
       "      <td>0.000000</td>\n",
       "      <td>0.000000</td>\n",
       "    </tr>\n",
       "    <tr>\n",
       "      <th>25%</th>\n",
       "      <td>27.000000</td>\n",
       "      <td>414.000000</td>\n",
       "      <td>2.000000</td>\n",
       "      <td>2.000000</td>\n",
       "      <td>2.000000</td>\n",
       "      <td>2.000000</td>\n",
       "      <td>2.000000</td>\n",
       "      <td>2.000000</td>\n",
       "      <td>2.000000</td>\n",
       "      <td>2.000000</td>\n",
       "      <td>2.000000</td>\n",
       "      <td>2.000000</td>\n",
       "      <td>3.000000</td>\n",
       "      <td>3.000000</td>\n",
       "      <td>3.000000</td>\n",
       "      <td>2.000000</td>\n",
       "      <td>0.000000</td>\n",
       "      <td>0.000000</td>\n",
       "    </tr>\n",
       "    <tr>\n",
       "      <th>50%</th>\n",
       "      <td>40.000000</td>\n",
       "      <td>844.000000</td>\n",
       "      <td>3.000000</td>\n",
       "      <td>3.000000</td>\n",
       "      <td>3.000000</td>\n",
       "      <td>3.000000</td>\n",
       "      <td>3.000000</td>\n",
       "      <td>3.000000</td>\n",
       "      <td>4.000000</td>\n",
       "      <td>4.000000</td>\n",
       "      <td>4.000000</td>\n",
       "      <td>4.000000</td>\n",
       "      <td>4.000000</td>\n",
       "      <td>3.000000</td>\n",
       "      <td>4.000000</td>\n",
       "      <td>3.000000</td>\n",
       "      <td>0.000000</td>\n",
       "      <td>0.000000</td>\n",
       "    </tr>\n",
       "    <tr>\n",
       "      <th>75%</th>\n",
       "      <td>51.000000</td>\n",
       "      <td>1744.000000</td>\n",
       "      <td>4.000000</td>\n",
       "      <td>4.000000</td>\n",
       "      <td>4.000000</td>\n",
       "      <td>4.000000</td>\n",
       "      <td>4.000000</td>\n",
       "      <td>4.000000</td>\n",
       "      <td>5.000000</td>\n",
       "      <td>4.000000</td>\n",
       "      <td>4.000000</td>\n",
       "      <td>4.000000</td>\n",
       "      <td>5.000000</td>\n",
       "      <td>4.000000</td>\n",
       "      <td>5.000000</td>\n",
       "      <td>4.000000</td>\n",
       "      <td>12.000000</td>\n",
       "      <td>13.000000</td>\n",
       "    </tr>\n",
       "    <tr>\n",
       "      <th>max</th>\n",
       "      <td>85.000000</td>\n",
       "      <td>4983.000000</td>\n",
       "      <td>5.000000</td>\n",
       "      <td>5.000000</td>\n",
       "      <td>5.000000</td>\n",
       "      <td>5.000000</td>\n",
       "      <td>5.000000</td>\n",
       "      <td>5.000000</td>\n",
       "      <td>5.000000</td>\n",
       "      <td>5.000000</td>\n",
       "      <td>5.000000</td>\n",
       "      <td>5.000000</td>\n",
       "      <td>5.000000</td>\n",
       "      <td>5.000000</td>\n",
       "      <td>5.000000</td>\n",
       "      <td>5.000000</td>\n",
       "      <td>1592.000000</td>\n",
       "      <td>1584.000000</td>\n",
       "    </tr>\n",
       "  </tbody>\n",
       "</table>\n",
       "</div>"
      ],
      "text/plain": [
       "                 age  flight_distance  inflight_wifi_service  \\\n",
       "count  129880.000000    129880.000000          129880.000000   \n",
       "mean       39.427957      1190.316392               2.728696   \n",
       "std        15.119360       997.452477               1.329340   \n",
       "min         7.000000        31.000000               0.000000   \n",
       "25%        27.000000       414.000000               2.000000   \n",
       "50%        40.000000       844.000000               3.000000   \n",
       "75%        51.000000      1744.000000               4.000000   \n",
       "max        85.000000      4983.000000               5.000000   \n",
       "\n",
       "       departure_arrival_time_convenient  ease_of_online_booking  \\\n",
       "count                      129880.000000           129880.000000   \n",
       "mean                            3.057599                2.756876   \n",
       "std                             1.526741                1.401740   \n",
       "min                             0.000000                0.000000   \n",
       "25%                             2.000000                2.000000   \n",
       "50%                             3.000000                3.000000   \n",
       "75%                             4.000000                4.000000   \n",
       "max                             5.000000                5.000000   \n",
       "\n",
       "       gate_location  food_and_drink  online_boarding   seat_comfort  \\\n",
       "count  129880.000000   129880.000000    129880.000000  129880.000000   \n",
       "mean        2.976925        3.204774         3.252633       3.441361   \n",
       "std         1.278520        1.329933         1.350719       1.319289   \n",
       "min         0.000000        0.000000         0.000000       0.000000   \n",
       "25%         2.000000        2.000000         2.000000       2.000000   \n",
       "50%         3.000000        3.000000         3.000000       4.000000   \n",
       "75%         4.000000        4.000000         4.000000       5.000000   \n",
       "max         5.000000        5.000000         5.000000       5.000000   \n",
       "\n",
       "       inflight_entertainment  onboard_service  leg_room_service  \\\n",
       "count           129880.000000    129880.000000     129880.000000   \n",
       "mean                 3.358077         3.383023          3.350878   \n",
       "std                  1.334049         1.287099          1.316252   \n",
       "min                  0.000000         0.000000          0.000000   \n",
       "25%                  2.000000         2.000000          2.000000   \n",
       "50%                  4.000000         4.000000          4.000000   \n",
       "75%                  4.000000         4.000000          4.000000   \n",
       "max                  5.000000         5.000000          5.000000   \n",
       "\n",
       "       baggage_handling  checkin_service  inflight_service    cleanliness  \\\n",
       "count     129880.000000    129880.000000     129880.000000  129880.000000   \n",
       "mean           3.632114         3.306267          3.642193       3.286326   \n",
       "std            1.180025         1.266185          1.176669       1.313682   \n",
       "min            1.000000         0.000000          0.000000       0.000000   \n",
       "25%            3.000000         3.000000          3.000000       2.000000   \n",
       "50%            4.000000         3.000000          4.000000       3.000000   \n",
       "75%            5.000000         4.000000          5.000000       4.000000   \n",
       "max            5.000000         5.000000          5.000000       5.000000   \n",
       "\n",
       "       departure_delay_in_minutes  arrival_delay_in_minutes  \n",
       "count               129880.000000             129487.000000  \n",
       "mean                    14.713713                 15.091129  \n",
       "std                     38.071126                 38.465650  \n",
       "min                      0.000000                  0.000000  \n",
       "25%                      0.000000                  0.000000  \n",
       "50%                      0.000000                  0.000000  \n",
       "75%                     12.000000                 13.000000  \n",
       "max                   1592.000000               1584.000000  "
      ]
     },
     "execution_count": 8,
     "metadata": {},
     "output_type": "execute_result"
    }
   ],
   "source": [
    "arch.describe()"
   ]
  },
  {
   "cell_type": "markdown",
   "id": "a9edb2be",
   "metadata": {},
   "source": [
    "## Extrayendo informacion de 'type_of_travel' para luego graficarla"
   ]
  },
  {
   "cell_type": "code",
   "execution_count": 25,
   "id": "92fd597f",
   "metadata": {},
   "outputs": [],
   "source": [
    "viajes = arch['type_of_travel']"
   ]
  },
  {
   "cell_type": "code",
   "execution_count": 26,
   "id": "8eea960f",
   "metadata": {},
   "outputs": [
    {
     "data": {
      "text/plain": [
       "0         Personal Travel\n",
       "1         Business travel\n",
       "2         Business travel\n",
       "3         Business travel\n",
       "4         Business travel\n",
       "               ...       \n",
       "129875    Business travel\n",
       "129876    Business travel\n",
       "129877    Personal Travel\n",
       "129878    Business travel\n",
       "129879    Personal Travel\n",
       "Name: type_of_travel, Length: 129880, dtype: object"
      ]
     },
     "execution_count": 26,
     "metadata": {},
     "output_type": "execute_result"
    }
   ],
   "source": [
    "viajes"
   ]
  },
  {
   "cell_type": "code",
   "execution_count": 27,
   "id": "15b5b67a",
   "metadata": {},
   "outputs": [],
   "source": [
    "contadorA = 0\n",
    "contadorB = 0\n",
    "for i in viajes.keys():\n",
    "    if viajes[i] == 'Personal Travel':\n",
    "        contadorA += 1\n",
    "    else:\n",
    "        contadorB += 1\n",
    "    "
   ]
  },
  {
   "cell_type": "code",
   "execution_count": 42,
   "id": "906aa771",
   "metadata": {},
   "outputs": [
    {
     "name": "stdout",
     "output_type": "stream",
     "text": [
      "40187\n",
      "89693\n"
     ]
    }
   ],
   "source": [
    "#Comprobar la cantidad de los contadores\n",
    "print(contadorA)\n",
    "print(contadorB)"
   ]
  },
  {
   "cell_type": "code",
   "execution_count": 48,
   "id": "944aee9f",
   "metadata": {},
   "outputs": [
    {
     "data": {
      "image/png": "[encoded data removed]",
      "text/plain": [
       "<Figure size 640x480 with 1 Axes>"
      ]
     },
     "metadata": {},
     "output_type": "display_data"
    }
   ],
   "source": [
    "#Creando la gráfica\n",
    "plt.pie([contadorA,contadorB],labels = ['Viajes Personales','Viajes de Negocios'],\n",
    "        autopct=lambda p:f'{p:.2f}%, {p*sum([contadorA,contadorB])/100 :.0f} viajes',startangle = 90)\n",
    "plt.title('Comparación entre la cantidad de viajes personales y de nesgocio')\n",
    "plt.show()"
   ]
  },
  {
   "cell_type": "markdown",
   "id": "791c0824",
   "metadata": {},
   "source": [
    "# Bots de Telegram"
   ]
  },
  {
   "cell_type": "markdown",
   "id": "297e891f",
   "metadata": {},
   "source": [
    "#### Para este caso se me hizo necesario usar un archivo .py, el cuál nombre como BotCalcular.py el cuál estará junto con este Notebook"
   ]
  },
  {
   "cell_type": "markdown",
   "id": "de9c1edb",
   "metadata": {},
   "source": [
    "#### Aquí pondre la prueba del funcionamiento del bot"
   ]
  },
  {
   "cell_type": "markdown",
   "id": "fef8301c",
   "metadata": {},
   "source": [
    "![Prueba del bot](Ejecucion_Bot.jpg)"
   ]
  },
  {
   "cell_type": "markdown",
   "id": "f55ae1f0",
   "metadata": {},
   "source": [
    "# API de Wikipedia"
   ]
  },
  {
   "cell_type": "markdown",
   "id": "8cd3ba66",
   "metadata": {},
   "source": [
    "## Aplicaciones vistas en clases"
   ]
  },
  {
   "cell_type": "code",
   "execution_count": 1,
   "id": "49939793",
   "metadata": {},
   "outputs": [
    {
     "name": "stdout",
     "output_type": "stream",
     "text": [
      "Requirement already satisfied: wikipedia-api in /Users/pablosanchez/anaconda3/lib/python3.11/site-packages (0.6.0)\n",
      "Requirement already satisfied: requests in /Users/pablosanchez/anaconda3/lib/python3.11/site-packages (from wikipedia-api) (2.31.0)\n",
      "Requirement already satisfied: charset-normalizer<4,>=2 in /Users/pablosanchez/anaconda3/lib/python3.11/site-packages (from requests->wikipedia-api) (2.0.4)\n",
      "Requirement already satisfied: idna<4,>=2.5 in /Users/pablosanchez/anaconda3/lib/python3.11/site-packages (from requests->wikipedia-api) (3.4)\n",
      "Requirement already satisfied: urllib3<3,>=1.21.1 in /Users/pablosanchez/anaconda3/lib/python3.11/site-packages (from requests->wikipedia-api) (1.26.16)\n",
      "Requirement already satisfied: certifi>=2017.4.17 in /Users/pablosanchez/anaconda3/lib/python3.11/site-packages (from requests->wikipedia-api) (2023.7.22)\n",
      "Note: you may need to restart the kernel to use updated packages.\n"
     ]
    }
   ],
   "source": [
    "pip install wikipedia-api"
   ]
  },
  {
   "cell_type": "code",
   "execution_count": 5,
   "id": "724fba75",
   "metadata": {},
   "outputs": [],
   "source": [
    "import wikipediaapi as wka\n",
    "import Cuenta"
   ]
  },
  {
   "cell_type": "code",
   "execution_count": 25,
   "id": "8bf8f60c",
   "metadata": {},
   "outputs": [
    {
     "name": "stdout",
     "output_type": "stream",
     "text": [
      "El Proyecto Jupyter es una organización sin ánimo de lucro creada para \"desarrollar software de código abierto, estándares abiertos y servicios para computación interactiva en docenas de lenguajes de programación\". Creado a partir de IPython en 2014 por Fernando Pérez, el proyecto Jupyter soporta entornos de ejecución en varias docenas de lenguajes de programación. El nombre del proyecto Jupyter es una referencia a los tres lenguajes de programación principales soportados por Jupyter, que son Julia, Python y R, y también un homenaje a los cuadernos de Galileo que registran el descubrimiento de los satélites de Júpiter. El proyecto Jupyter ha desarrollado y respaldado los productos de computación interactiva Jupyter Notebook, JupyterHub y JupyterLab, la versión de próxima generación de Jupyter Notebook.\n"
     ]
    }
   ],
   "source": [
    "wiki = wka.Wikipedia(f'ClaseProteco ({Cuenta.getCorreo()})','es')\n",
    "page = wiki.page('Proyecto Jupyter')\n",
    "\n",
    "if (page.exists()):\n",
    "\tprint(page.summary)\n",
    "else:\n",
    "\tprint('La pagina no existe')"
   ]
  },
  {
   "cell_type": "code",
   "execution_count": 17,
   "id": "f379f339",
   "metadata": {},
   "outputs": [
    {
     "name": "stdout",
     "output_type": "stream",
     "text": [
      "https://es.wikipedia.org/wiki/Monty_Python\n"
     ]
    }
   ],
   "source": [
    "print(page.fullurl)"
   ]
  },
  {
   "cell_type": "code",
   "execution_count": 29,
   "id": "2873209f",
   "metadata": {
    "scrolled": true
   },
   "outputs": [
    {
     "name": "stdout",
     "output_type": "stream",
     "text": [
      "Python is a high-level, general-purpose programming language. Its design philosophy emphasizes code readability with the use of significant indentation.Python is dynamically typed and garbage-collected. It supports multiple programming paradigms, including structured (particularly procedural), object-oriented and functional programming. It is often described as a \"batteries included\" language due to its comprehensive standard library.Guido van Rossum began working on Python in the late 1980s as a successor to the ABC programming language and first released it in 1991 as Python 0.9.0. Python 2.0 was released in 2000. Python 3.0, released in 2008, was a major revision not completely backward-compatible with earlier versions. Python 2.7.18, released in 2020, was the last release of Python 2.Python consistently ranks as one of the most popular programming languages, and has gained widespread use in the machine learning community.\n",
      "\n",
      "History\n",
      "Python was conceived in the late 1980s by Guido van Rossum at Centrum Wiskunde & Informatica (CWI) in the Netherlands as a successor to the ABC programming language, which was inspired by SETL, capable of exception handling and interfacing with the Amoeba operating system. Its implementation began in December 1989. Van Rossum shouldered sole responsibility for the project, as the lead developer, until 12 July 2018, when he announced his \"permanent vacation\" from his responsibilities as Python's \"benevolent dictator for life\", a title the Python community bestowed upon him to reflect his long-term commitment as the project's chief decision-maker. In January 2019, active Python core developers elected a five-member Steering Council to lead the project.Python 2.0 was released on 16 October 2000, with many major new features such as list comprehensions, cycle-detecting garbage collection, reference counting, and Unicode support. Python 3.0, released on 3 December 2008, with many of its major features backported to Python 2.6.x and 2.7.x. Releases of Python 3 include the 2to3 utility, which automates the translation of Python 2 code to Python 3.Python 2.7's end-of-life was initially set for 2015, then postponed to 2020 out of concern that a large body of existing code could not easily be forward-ported to Python 3. No further security patches or other improvements will be released for it. Currently only 3.8 and later are supported (2023 security issues were fixed in e.g. 3.7.17, the final 3.7.x release). While Python 2.7 and older is officially unsupported, a different unofficial Python implementation, PyPy, continues to support Python 2, i.e. \"2.7.18+\" (plus 3.9 and 3.10), with the plus meaning (at least some) \"backported security updates\".In 2021 (and again twice in 2022), security updates were expedited, since all Python versions were insecure (including 2.7) because of security issues leading to possible remote code execution and web-cache poisoning. In 2022, Python 3.10.4 and 3.9.12 were expedited and 3.8.13, because of many security issues. When Python 3.9.13 was released in May 2022, it was announced that the 3.9 series (joining the older series 3.8 and 3.7) would only receive security fixes in the future. On 7 September 2022, four new releases were made due to a potential denial-of-service attack: 3.10.7, 3.9.14, 3.8.14, and 3.7.14.As of October 2023, Python 3.12 is the stable release, and 3.12 and 3.11 are the only versions with active (as opposed to just security) support. Notable changes in 3.11 from 3.10 include increased program execution speed and improved error reporting.Python 3.12 adds syntax (and in fact every Python since at least 3.5 adds some syntax) to the language, the new (soft) keyword type (recent releases have added a lot of typing support e.g. new type union operator in 3.10), and 3.11 for exception handling, and 3.10 the match and case (soft) keywords, for structural pattern matching statements. Python 3.12 also drops outdated modules and functionality, and future versions will too, see below in Development section.\n",
      "Python 3.11 claims to be between 10 and 60% faster than Python 3.10, and Python 3.12 adds another 5% on top of that. It also has improved error messages, and many other changes.\n",
      "Since 27 June 2023, Python 3.8 is the oldest supported version of Python (albeit in the 'security support' phase), due to Python 3.7 reaching end-of-life.\n",
      "\n",
      "Design philosophy and features\n",
      "Python is a multi-paradigm programming language. Object-oriented programming and structured programming are fully supported, and many of their features support functional programming and aspect-oriented programming (including metaprogramming and metaobjects). Many other paradigms are supported via extensions, including design by contract and logic programming.Python uses dynamic typing and a combination of reference counting and a cycle-detecting garbage collector for memory management. It uses dynamic name resolution (late binding), which binds method and variable names during program execution.\n",
      "Its design offers some support for functional programming in the Lisp tradition. It has filter,mapandreduce functions; list comprehensions, dictionaries, sets, and generator expressions. The standard library has two modules (itertools and functools) that implement functional tools borrowed from Haskell and Standard ML.Its core philosophy is summarized in the Zen of Python (PEP 20), which includes aphorisms such as:\n",
      "Beautiful is better than ugly.\n",
      "Explicit is better than implicit.\n",
      "Simple is better than complex.\n",
      "Complex is better than complicated.\n",
      "Readability counts.Rather than building all of its functionality into its core, Python was designed to be highly extensible via modules. This compact modularity has made it particularly popular as a means of adding programmable interfaces to existing applications. Van Rossum's vision of a small core language with a large standard library and easily extensible interpreter stemmed from his frustrations with ABC, which espoused the opposite approach.Python strives for a simpler, less-cluttered syntax and grammar while giving developers a choice in their coding methodology. In contrast to Perl's \"there is more than one way to do it\" motto, Python embraces a \"there should be one—and preferably only one—obvious way to do it\"  philosophy. Alex Martelli, a Fellow at the Python Software Foundation and Python book author, wrote: \"To describe something as 'clever' is not considered a compliment in the Python culture.\" One benefit of this approach is greater consistency across the Python user communities and shared understanding of the coding principles. \n",
      "Python's developers usually strive to avoid premature optimization and reject patches to non-critical parts of the CPython reference implementation that would offer marginal increases in speed at the cost of clarity. Execution speed can be improved by moving speed-critical functions to extension modules written in languages such as C, or by using a just-in-time compiler like PyPy. It is also possible to cross-compile to other languages, but it either doesn't provide the full speed-up that might be expected, since Python is a very dynamic language, or a restricted subset of Python is compiled, and possibly semantics are slightly changed.\n",
      "Python's developers aim for it to be fun to use. This is reflected in its name—a tribute to the British comedy group Monty Python—and in occasionally playful approaches to tutorials and reference materials, such as the use of the terms \"spam\" and \"eggs\" (a reference to a Monty Python sketch) in examples, instead of the often-used \"foo\" and \"bar\".A common neologism in the Python community is pythonic, which has a wide range of meanings related to program style. \"Pythonic\" code may use Python idioms well, be natural or show fluency in the language, or conform with Python's minimalist philosophy and emphasis on readability. Code that is difficult to understand or reads like a rough transcription from another programming language is called unpythonic.\n",
      "\n",
      "Syntax and semantics\n",
      "Python is meant to be an easily readable language. Its formatting is visually uncluttered and often uses English keywords where other languages use punctuation. Unlike many other languages, it does not use curly brackets to delimit blocks, and semicolons after statements are allowed but rarely used. It has fewer syntactic exceptions and special cases than C or Pascal.\n",
      "\n",
      "Indentation\n",
      "Python uses whitespace indentation, rather than curly brackets or keywords, to delimit blocks. An increase in indentation comes after certain statements; a decrease in indentation signifies the end of the current block. Thus, the program's visual structure accurately represents its semantic structure. This feature is sometimes termed the off-side rule. Some other languages use indentation this way; but in most, indentation has no semantic meaning. The recommended indent size is four spaces.\n",
      "\n",
      "Statements and control flow\n",
      "Python's statements include:\n",
      "\n",
      "The assignment statement, using a single equals sign =\n",
      "The if statement, which conditionally executes a block of code, along with else and elif (a contraction of else-if)\n",
      "The for statement, which iterates over an iterable object, capturing each element to a local variable for use by the attached block\n",
      "The while statement, which executes a block of code as long as its condition is true\n",
      "The try statement, which allows exceptions raised in its attached code block to be caught and handled by except clauses (or new syntax except* in Python 3.11 for exception groups); it also ensures that clean-up code in a finally block is always run regardless of how the block exits\n",
      "The raise statement, used to raise a specified exception or re-raise a caught exception\n",
      "The class statement, which executes a block of code and attaches its local namespace to a class, for use in object-oriented programming\n",
      "The def statement, which defines a function or method\n",
      "The with statement, which encloses a code block within a context manager (for example, acquiring a lock before it is run, then releasing the lock; or opening and closing a file), allowing resource-acquisition-is-initialization (RAII)-like behavior and replacing a common try/finally idiom\n",
      "The break statement, which exits a loop\n",
      "The continue statement, which skips the rest of the current iteration and continues with the next\n",
      "The del statement, which removes a variable—deleting the reference from the name to the value, and producing an error if the variable is referred to before it is redefined\n",
      "The pass statement, serving as a NOP, syntactically needed to create an empty code block\n",
      "The assert statement, used in debugging to check for conditions that should apply\n",
      "The yield statement, which returns a value from a generator function (and also an operator); used to implement coroutines\n",
      "The return statement, used to return a value from a function\n",
      "The import and from statements, used to import modules whose functions or variables can be used in the current programThe assignment statement (=) binds a name as a reference to a separate, dynamically allocated object. Variables may subsequently be rebound at any time to any object. In Python, a variable name is a generic reference holder without a fixed data type; however, it always refers to some object with a type. This is called dynamic typing—in contrast to statically-typed languages, where each variable may contain only a value of a certain type.\n",
      "Python does not support tail call optimization or first-class continuations, and, according to Van Rossum, it never will. However, better support for coroutine-like functionality is provided by extending Python's generators. Before 2.5, generators were lazy iterators; data was passed unidirectionally out of the generator. From Python 2.5 on, it is possible to pass data back into a generator function; and from version 3.3, it can be passed through multiple stack levels.\n",
      "\n",
      "Expressions\n",
      "Python's expressions include:\n",
      "\n",
      "The +, -, and * operators for mathematical addition, subtraction, and multiplication are similar to other languages, but the behavior of division differs. There are two types of divisions in Python: floor division (or integer division) // and floating-point/division. Python uses the ** operator for exponentiation.\n",
      "Python uses the + operator for string concatenation. Python uses the * operator for duplicating a string a specified number of times.\n",
      "The @ infix operator. It is intended to be used by libraries such as NumPy for matrix multiplication.\n",
      "The syntax :=, called the \"walrus operator\", was introduced in Python 3.8. It assigns values to variables as part of a larger expression.\n",
      "In Python, == compares by value. Python's is operator may be used to compare object identities (comparison by reference), and comparisons may be chained—for example, a <= b <= c.\n",
      "Python uses and, or, and not as Boolean operators.\n",
      "Python has a type of expression called a list comprehension, as well as a more general expression called a generator expression.\n",
      "Anonymous functions are implemented using lambda expressions; however, there may be only one expression in each body.\n",
      "Conditional expressions are written as x if c else y (different in order of operands from the c ? x : y operator common to many other languages).\n",
      "Python makes a distinction between lists and tuples. Lists are written as [1, 2, 3], are mutable, and cannot be used as the keys of dictionaries (dictionary keys must be immutable in Python). Tuples, written as (1, 2, 3), are immutable and thus can be used as keys of dictionaries, provided all of the tuple's elements are immutable. The + operator can be used to concatenate two tuples, which does not directly modify their contents, but produces a new tuple containing the elements of both. Thus, given the variable t initially equal to (1, 2, 3), executing t = t + (4, 5) first evaluates t + (4, 5), which yields (1, 2, 3, 4, 5), which is then assigned back to t—thereby effectively \"modifying the contents\" of t while conforming to the immutable nature of tuple objects. Parentheses are optional for tuples in unambiguous contexts.\n",
      "Python features sequence unpacking where multiple expressions, each evaluating to anything that can be assigned (to a variable, writable property, etc.) are associated in an identical manner to that forming tuple literals—and, as a whole, are put on the left-hand side of the equal sign in an assignment statement. The statement expects an iterable object on the right-hand side of the equal sign that produces the same number of values as the provided writable expressions; when iterated through them, it assigns each of the produced values to the corresponding expression on the left.\n",
      "Python has a \"string format\" operator % that functions analogously to printf format strings in C—e.g. \"spam=%s eggs=%d\" % (\"blah\", 2) evaluates to \"spam=blah eggs=2\". In Python 2.6+ and 3+, this was supplemented by the format() method of the str class, e.g. \"spam={0} eggs={1}\".format(\"blah\", 2). Python 3.6 added \"f-strings\": spam = \"blah\"; eggs = 2; f'spam={spam} eggs={eggs}'.\n",
      "Strings in Python can be concatenated by \"adding\" them (with the same operator as for adding integers and floats), e.g. \"spam\" + \"eggs\" returns \"spameggs\". If strings contain numbers, they are added as strings rather than integers, e.g. \"2\" + \"2\" returns \"22\".\n",
      "Python has various string literals:\n",
      "Delimited by single or double quotes; unlike in Unix shells, Perl, and Perl-influenced languages, single and double quotes work the same. Both use the backslash (\\) as an escape character. String interpolation became available in Python 3.6 as \"formatted string literals\".\n",
      "Triple-quoted (beginning and ending with three single or double quotes), which may span multiple lines and function like here documents in shells, Perl, and Ruby.\n",
      "Raw string varieties, denoted by prefixing the string literal with r. Escape sequences are not interpreted; hence raw strings are useful where literal backslashes are common, such as regular expressions and Windows-style paths. (Compare \"@-quoting\" in C#.)\n",
      "Python has array index and array slicing expressions in lists, denoted as a[key], a[start:stop] or a[start:stop:step]. Indexes are zero-based, and negative indexes are relative to the end. Slices take elements from the start index up to, but not including, the stop index. The third slice parameter called step or stride, allows elements to be skipped and reversed. Slice indexes may be omitted—for example, a[:] returns a copy of the entire list. Each element of a slice is a shallow copy.In Python, a distinction between expressions and statements is rigidly enforced, in contrast to languages such as Common Lisp, Scheme, or Ruby. This leads to duplicating some functionality. For example:\n",
      "\n",
      "List comprehensions vs. for-loops\n",
      "Conditional expressions vs. if blocks\n",
      "The eval() vs. exec() built-in functions (in Python 2, exec is a statement); the former is for expressions, the latter is for statementsStatements cannot be a part of an expression—so list and other comprehensions or lambda expressions, all being expressions, cannot contain statements. A particular case is that an assignment statement such as a = 1 cannot form part of the conditional expression of a conditional statement. This has the advantage of avoiding a classic C error of mistaking an assignment operator = for an equality operator == in conditions: if (c = 1) { ... } is syntactically valid (but probably unintended) C code, but if c = 1: ... causes a syntax error in Python.\n",
      "\n",
      "Methods\n",
      "Methods on objects are functions attached to the object's class; the syntax instance.method(argument) is, for normal methods and functions, syntactic sugar for Class.method(instance, argument). Python methods have an explicit self parameter to access instance data, in contrast to the implicit self (or this) in some other object-oriented programming languages (e.g., C++, Java, Objective-C, Ruby). Python also provides methods, often called dunder methods (due to their names beginning and ending with double-underscores), to allow user-defined classes to modify how they are handled by native operations including length, comparison, in arithmetic operations and type conversion.\n",
      "\n",
      "Typing\n",
      "Python uses duck typing and has typed objects but untyped variable names. Type constraints are not checked at compile time; rather, operations on an object may fail, signifying that it is not of a suitable type. Despite being dynamically typed, Python is strongly typed, forbidding operations that are not well-defined (for example, adding a number to a string) rather than silently attempting to make sense of them.\n",
      "Python allows programmers to define their own types using classes, most often used for object-oriented programming. New instances of classes are constructed by calling the class (for example, SpamClass() or EggsClass()), and the classes are instances of the metaclass type (itself an instance of itself), allowing metaprogramming and reflection.\n",
      "Before version 3.0, Python had two kinds of classes (both using the same syntax): old-style and new-style, current Python versions only support the semantics new style.\n",
      "Python supports optional type annotations. These annotations are not enforced by the language, but may be used by external tools such as mypy to catch errors. Mypy also supports a Python compiler called mypyc, which leverages type annotations for optimization.\n",
      "\n",
      "Arithmetic operations\n",
      "Python has the usual symbols for arithmetic operators (+, -, *, /), the floor division operator // and the modulo operation % (where the remainder can be negative,  e.g. 4 % -3 == -2). It also has ** for exponentiation, e.g. 5**3 == 125 and 9**0.5 == 3.0, and a matrix‑multiplication operator @ . These operators work like in traditional math; with the same precedence rules, the operators infix (+ and - can also be unary to represent positive and negative numbers respectively).\n",
      "The division between integers produces floating-point results. The behavior of division has changed significantly over time:\n",
      "Current Python (i.e. since 3.0) changed / to always be floating-point division, e.g. 5/2 == 2.5.\n",
      "The floor division // operator was introduced. So 7//3 == 2, -7//3 == -3, 7.5//3 == 2.0 and -7.5//3 == -3.0. Adding from __future__ import division causes a module used in Python 2.7 to use Python 3.0 rules for division (see above).In Python terms, / is true division (or simply division), and // is floor division. / before version 3.0 is classic division.Rounding towards negative infinity, though different from most languages, adds consistency. For instance, it means that the equation (a + b)//b == a//b + 1 is always true. It also means that the equation b*(a//b) + a%b == a is valid for both positive and negative values of a. However, maintaining the validity of this equation means that while the result of a%b is, as expected, in the half-open interval [0, b), where b is a positive integer, it has to lie in the interval (b, 0] when b is negative.Python provides a round function for rounding a float to the nearest integer. For tie-breaking, Python 3 uses round to even: round(1.5) and round(2.5) both produce 2. Versions before 3 used round-away-from-zero: round(0.5) is 1.0, round(-0.5) is −1.0.Python allows Boolean expressions with multiple equality relations in a manner that is consistent with general use in mathematics. For example, the expression a < b < c tests whether a is less than b and b is less than c. C-derived languages interpret this expression differently: in C, the expression would first evaluate a < b, resulting in 0 or 1, and that result would then be compared with c.Python uses arbitrary-precision arithmetic for all integer operations. The Decimal type/class in the decimal module provides decimal floating-point numbers to a pre-defined arbitrary precision and several rounding modes. The Fraction class in the fractions module provides arbitrary precision for rational numbers.Due to Python's extensive mathematics library, and the third-party library NumPy that further extends the native capabilities, it is frequently used as a scientific scripting language to aid in problems such as numerical data processing and manipulation.\n",
      "\n",
      "Programming examples\n",
      "Hello world program:\n",
      "\n",
      "Program to calculate the factorial of a positive integer:\n",
      "\n",
      "Libraries\n",
      "Python's large standard library provides tools suited to many tasks and is commonly cited as one of its greatest strengths. For Internet-facing applications, many standard formats and protocols such as MIME and HTTP are supported. It includes modules for creating graphical user interfaces, connecting to relational databases, generating pseudorandom numbers, arithmetic with arbitrary-precision decimals, manipulating regular expressions, and unit testing.\n",
      "Some parts of the standard library are covered by specifications—for example, the Web Server Gateway Interface (WSGI) implementation wsgiref follows PEP 333—but most are specified by their code, internal documentation, and test suites. However, because most of the standard library is cross-platform Python code, only a few modules need altering or rewriting for variant implementations.\n",
      "As of 14 November 2022, the Python Package Index (PyPI), the official repository for third-party Python software, contains over 415,000 packages with a wide range of functionality, including:\n",
      "\n",
      "Development environments\n",
      "Most Python implementations (including CPython) include a read–eval–print loop (REPL), permitting them to function as a command line interpreter for which users enter statements sequentially and receive results immediately.\n",
      "Python also comes with an Integrated development environment (IDE) called IDLE, which is more beginner-oriented.\n",
      "Other shells, including IDLE and IPython, add further abilities such as improved auto-completion, session state retention, and syntax highlighting.\n",
      "As well as standard desktop integrated development environments including PyCharm, IntelliJ Idea, Visual Studio Code etc, there are web browser-based IDEs, including SageMath, for developing science- and math-related programs; PythonAnywhere, a browser-based IDE and hosting environment; and Canopy IDE, a commercial IDE emphasizing scientific computing.\n",
      "\n",
      "Implementations\n",
      "Reference implementation\n",
      "CPython is the reference implementation of Python. It is written in C, meeting the C89 standard (Python 3.11 uses C11) with several select C99 features. CPython includes its own C extensions, but third-party extensions are not limited to older C versions—e.g. they can be implemented with C11 or C++.) It compiles Python programs into an intermediate bytecode which is then executed by its virtual machine. CPython is distributed with a large standard library written in a mixture of C and native Python, and is available for many platforms, including Windows (starting with Python 3.9, the Python installer deliberately fails to install on Windows 7 and 8; Windows XP was supported until Python 3.5) and most modern Unix-like systems, including macOS (and Apple M1 Macs, since Python 3.9.1, with experimental installer) and unofficial support for e.g. VMS. Platform portability was one of its earliest priorities. (During Python 1 and 2 development, even OS/2 and Solaris were supported, but support has since been dropped for many platforms.)\n",
      "\n",
      "Other implementations\n",
      "PyPy is a fast, compliant interpreter of Python 2.7 and 3.8. Its just-in-time compiler often brings a significant speed improvement over CPython but some libraries written in C cannot be used with it.\n",
      "Stackless Python is a significant fork of CPython that implements microthreads; it does not use the call stack in the same way, thus allowing massively concurrent programs. PyPy also has a stackless version.\n",
      "MicroPython and CircuitPython are Python 3 variants optimized for microcontrollers, including Lego Mindstorms EV3.\n",
      "Pyston is a variant of the Python runtime that uses just-in-time compilation to speed up the execution of Python programs.\n",
      "Cinder is a performance-oriented fork of CPython 3.8 that contains a number of optimizations, including bytecode inline caching, eager evaluation of coroutines, a method-at-a-time JIT, and an experimental bytecode compiler.\n",
      "Snek Embedded Computing Language (supporting e.g. 8-bit AVR microcontrollers such as ATmega 328P-based Arduino, and larger ones that are MicroPython can also support) \"is Python-inspired, but it is not Python. It is possible to write Snek programs that run under a full Python system, but most Python programs will not run under Snek.\" It's an imperative language not including OOP/classes unlike Python, and simplifying to one number type (like JavaScript, except using smaller) 32-bit single-precision \"Integer values of less than 24 bits can be represented exactly in these floating point values\".\n",
      "\n",
      "Unsupported implementations\n",
      "Other just-in-time Python compilers have been developed, but are now unsupported:\n",
      "\n",
      "Google began a project named Unladen Swallow in 2009, with the aim of speeding up the Python interpreter fivefold by using the LLVM, and of improving its multithreading ability to scale to thousands of cores, while ordinary implementations suffer from the global interpreter lock.\n",
      "Psyco is a discontinued just-in-time specializing compiler that integrates with CPython and transforms bytecode to machine code at runtime. The emitted code is specialized for certain data types and is faster than the standard Python code. Psyco does not support Python 2.7 or later.\n",
      "PyS60 was a Python 2 interpreter for Series 60 mobile phones released by Nokia in 2005. It implemented many of the modules from the standard library and some additional modules for integrating with the Symbian operating system. The Nokia N900 also supports Python with GTK widget libraries, enabling programs to be written and run on the target device.\n",
      "\n",
      "Cross-compilers to other languages\n",
      "There are several compilers/transpilers to high-level object languages, with either unrestricted Python, a restricted subset of Python, or a language similar to Python as the source language:\n",
      "\n",
      "Brython, Transcrypt and Pyjs (latest release in 2012) compile Python to JavaScript.\n",
      "Codon compiles a subset of statically typed Python to machine code (via LLVM) and supports native multithreading.\n",
      "Cython compiles (a superset of) Python  to C. The resulting code is also usable with Python via direct C-level API calls into the Python interpreter.\n",
      "PyJL compiles/transpiles a subset of Python to \"human-readable, maintainable, and high-performance Julia source code\". Despite claiming high performance, no tool can claim to do that for arbitrary Python code; i.e. it's known not possible to compile to a faster language or machine code. Unless semantics of Python are changed, but in many cases speedup is possible with few or no changes in the Python code. The faster Julia source code can then be used from Python, or compiled to machine code, and based that way.\n",
      "Nuitka compiles Python into C.\n",
      "Numba uses LLVM to compile a subset of Python to machine code.\n",
      "Pythran compiles a subset of Python 3 to C++ (C++11).\n",
      "RPython can be compiled to C, and is used to build the PyPy interpreter of Python.\n",
      "The Python → 11l → C++ transpiler compiles a subset of Python 3 to C++ (C++17).Specialized:\n",
      "\n",
      "MyHDL is a Python-based hardware description language (HDL), that converts MyHDL code to Verilog or VHDL code.Older projects (or not to be used with Python 3.x and latest syntax):\n",
      "\n",
      "Google's Grumpy (latest release in 2017) transpiles Python 2 to Go.\n",
      "IronPython  allows running Python 2.7 programs (and an alpha, released in 2021, is also available for \"Python 3.4, although features and behaviors from later versions may be included\") on the .NET Common Language Runtime.\n",
      "Jython compiles Python 2.7 to Java bytecode, allowing the use of the Java libraries from a Python program.\n",
      "Pyrex (latest release in 2010) and Shed Skin (latest release in 2013) compile to C and C++ respectively.\n",
      "\n",
      "Performance\n",
      "Performance comparison of various Python implementations on a non-numerical (combinatorial) workload was presented at EuroSciPy '13. Python's performance compared to other programming languages is also benchmarked by The Computer Language Benchmarks Game.\n",
      "\n",
      "Development\n",
      "Python's development is conducted largely through the Python Enhancement Proposal (PEP) process, the primary mechanism for proposing major new features, collecting community input on issues, and documenting Python design decisions. Python coding style is covered in PEP 8. Outstanding PEPs are reviewed and commented on by the Python community and the steering council.Enhancement of the language corresponds with the development of the CPython reference implementation. The mailing list python-dev is the primary forum for the language's development. Specific issues were originally discussed in the Roundup bug tracker hosted at by the foundation. In 2022, all issues and discussions were migrated to GitHub. Development originally took place on a self-hosted source-code repository running Mercurial, until Python moved to GitHub in January 2017.CPython's public releases come in three types, distinguished by which part of the version number is incremented:\n",
      "\n",
      "Backward-incompatible versions, where code is expected to break and needs to be manually ported. The first part of the version number is incremented. These releases happen infrequently—version 3.0 was released 8 years after 2.0. According to Guido van Rossum, a version 4.0 is very unlikely to ever happen.\n",
      "Major or \"feature\" releases are largely compatible with the previous version but introduce new features. The second part of the version number is incremented. Starting with Python 3.9, these releases are expected to happen annually. Each major version is supported by bug fixes for several years after its release.\n",
      "Bugfix releases, which introduce no new features, occur about every 3 months and are made when a sufficient number of bugs have been fixed upstream since the last release. Security vulnerabilities are also patched in these releases. The third and final part of the version number is incremented.Many alpha, beta, and release-candidates are also released as previews and for testing before final releases. Although there is a rough schedule for each release, they are often delayed if the code is not ready. Python's development team monitors the state of the code by running the large unit test suite during development.The major academic conference on Python is PyCon. There are also special Python mentoring programs, such as PyLadies.\n",
      "Python 3.12 removed wstr meaning Python extensions need to be modified, and 3.10 added pattern matching to the language.Python 3.12 dropped some outdated modules, and more will be dropped in the future, deprecated as of 3.13; already deprecated array 'u' format code will emit DeprecationWarning since 3.13 and will be removed in Python 3.16. The 'w' format code should be used instead. Part of ctypes is also deprecated and http.server.CGIHTTPRequestHandler will emit a DeprecationWarning, and will be removed in 3.15. Using that code already has a high potential for both security and functionality bugs. Parts of the typing module are deprecated, e.g. creating a typing.NamedTuple class using keyword arguments to denote the fields and such (and more) will be disallowed in Python 3.15.\n",
      "\n",
      "API documentation generators\n",
      "Tools that can generate documentation for Python API include pydoc (available as part of the standard library), Sphinx, Pdoc and its forks, Doxygen and Graphviz, among others.\n",
      "\n",
      "Naming\n",
      "Python's name is derived from the British comedy group Monty Python, whom Python creator Guido van Rossum enjoyed while developing the language. Monty Python references appear frequently in Python code and culture; for example, the metasyntactic variables often used in Python literature are spam and eggs instead of the traditional foo and bar. The official Python documentation also contains various references to Monty Python routines. Users of Python are sometimes referred to as \"Pythonistas\".The prefix Py- is used to show that something is related to Python. Examples of the use of this prefix in names of Python applications or libraries include Pygame, a binding of SDL to Python (commonly used to create games); PyQt and PyGTK, which bind Qt and GTK to Python respectively; and PyPy, a Python implementation originally written in Python.\n",
      "\n",
      "Popularity\n",
      "Since 2003, Python has consistently ranked in the top ten most popular programming languages in the TIOBE Programming Community Index where as of December 2022 it was the most popular language (ahead of C, C++, and Java). It was selected Programming Language of the Year (for \"the highest rise in ratings in a year\") in 2007, 2010, 2018, and 2020 (the only language to have done so four times as of 2020).\n",
      "An empirical study found that scripting languages, such as Python, are more productive than conventional languages, such as C and Java, for programming problems involving string manipulation and search in a dictionary, and determined that memory consumption was often \"better than Java and not much worse than C or C++\".Large organizations that use Python include Wikipedia, Google, Yahoo!, CERN, NASA, Facebook, Amazon, Instagram, Spotify, and some smaller entities like ILM and ITA. The social news networking site Reddit was written mostly in Python.\n",
      "\n",
      "Uses\n",
      "Python can serve as a scripting language for web applications, e.g. via mod_wsgi for the Apache webserver. With Web Server Gateway Interface, a standard API has evolved to facilitate these applications. Web frameworks like Django, Pylons, Pyramid, TurboGears, web2py, Tornado, Flask, Bottle, and Zope support developers in the design and maintenance of complex applications. Pyjs and IronPython can be used to develop the client-side of Ajax-based applications. SQLAlchemy can be used as a data mapper to a relational database. Twisted is a framework to program communications between computers, and is used (for example) by Dropbox.\n",
      "Libraries such as NumPy, SciPy, and Matplotlib allow the effective use of Python in scientific computing, with specialized libraries such as Biopython and Astropy providing domain-specific functionality. SageMath is a computer algebra system with a notebook interface programmable in Python: its library covers many aspects of mathematics, including algebra, combinatorics, numerical mathematics, number theory, and calculus. OpenCV has Python bindings with a rich set of features for computer vision and image processing.Python is commonly used in artificial intelligence projects and machine learning projects with the help of libraries like TensorFlow, Keras, Pytorch, and scikit-learn. As a scripting language with a modular architecture, simple syntax, and rich text processing tools, Python is often used for natural language processing.Python can also be used for graphical user interface (GUI) by using libraries like Tkinter.Python can also be used to create games, with libraries such as Pygame, which can make 2D games.\n",
      "Python has been successfully embedded in many software products as a scripting language, including in finite element method software such as Abaqus, 3D parametric modelers like FreeCAD, 3D animation packages such as 3ds Max, Blender, Cinema 4D, Lightwave, Houdini, Maya, modo, MotionBuilder, Softimage, the visual effects compositor Nuke, 2D imaging programs like GIMP, Inkscape, Scribus and Paint Shop Pro, and musical notation programs like scorewriter and capella. GNU Debugger uses Python as a pretty printer to show complex structures such as C++ containers. Esri promotes Python as the best choice for writing scripts in ArcGIS. It has also been used in several video games, and has been adopted as first of the three available programming languages in Google App Engine, the other two being Java and Go.Many operating systems include Python as a standard component. It ships with most Linux distributions, AmigaOS 4 (using Python 2.7), FreeBSD (as a package), NetBSD, and OpenBSD (as a package) and can be used from the command line (terminal). Many Linux distributions use installers written in Python: Ubuntu uses the Ubiquity installer, while Red Hat Linux and Fedora Linux use the Anaconda installer. Gentoo Linux uses Python in its package management system, Portage.\n",
      "Python is used extensively in the information security industry, including in exploit development.Most of the Sugar software for the One Laptop per Child XO, developed at Sugar Labs as of 2008, is written in Python. The Raspberry Pi single-board computer project has adopted Python as its main user-programming language.\n",
      "LibreOffice includes Python and intends to replace Java with Python. Its Python Scripting Provider is a core feature since Version 4.0 from 7 February 2013.\n",
      "\n",
      "Languages influenced by Python\n",
      "Python's design and philosophy have influenced many other programming languages:\n",
      "\n",
      "Boo uses indentation, a similar syntax, and a similar object model.\n",
      "Cobra uses indentation and a similar syntax, and its Acknowledgements document lists Python first among languages that influenced it.\n",
      "CoffeeScript, a programming language that cross-compiles to JavaScript, has Python-inspired syntax.\n",
      "ECMAScript/JavaScript borrowed iterators and generators from Python.\n",
      "GDScript, a scripting language very similar to Python, built-in to the Godot game engine.\n",
      "Go is designed for the \"speed of working in a dynamic language like Python\" and shares the same syntax for slicing arrays.\n",
      "Groovy was motivated by the desire to bring the Python design philosophy to Java.\n",
      "Julia was designed to be \"as usable for general programming as Python\".\n",
      "Mojo is currently a non-strict (aims to be a strict) superset of Python (e.g. still missing classes, and adding e.g. struct), and is up to 35,000x faster for some code (mandelbrot, since it is embarrassingly parallel), where static typing helps (and MLIR it is implemented with), and, e.g. 4000 times faster for matrix multiplication.\n",
      "Nim uses indentation and similar syntax.\n",
      "Ruby's creator, Yukihiro Matsumoto, has said: \"I wanted a scripting language that was more powerful than Perl, and more object-oriented than Python. That's why I decided to design my own language.\"\n",
      "Swift, a programming language developed by Apple, has some Python-inspired syntax.Python's development practices have also been emulated by other languages. For example, the practice of requiring a document describing the rationale for, and issues surrounding, a change to the language (in Python, a PEP) is also used in Tcl, Erlang, and Swift.\n",
      "\n",
      "See also\n",
      "Python syntax and semantics\n",
      "pip (package manager)\n",
      "List of programming languages\n",
      "History of programming languages\n",
      "Comparison of programming languages\n",
      "\n",
      "References\n",
      "Sources\n",
      "\"Python for Artificial Intelligence\". Python Wiki. 19 July 2012. Archived from the original on 1 November 2012. Retrieved 3 December 2012.\n",
      "Paine, Jocelyn, ed. (August 2005). \"AI in Python\". AI Expert Newsletter. Amzi!. Archived from the original on 26 March 2012. Retrieved 11 February 2012.\n",
      "\"PyAIML 0.8.5 : Python Package Index\". Pypi.python.org. Retrieved 17 July 2013.\n",
      "Russell, Stuart J. & Norvig, Peter (2009). Artificial Intelligence: A Modern Approach (3rd ed.). Upper Saddle River, NJ: Prentice Hall. ISBN 978-0-13-604259-4.\n",
      "\n",
      "Further reading\n",
      "Downey, Allen B. (May 2012). Think Python: How to Think Like a Computer Scientist (version 1.6.6 ed.). Cambridge University Press. ISBN 978-0-521-72596-5.\n",
      "Hamilton, Naomi (5 August 2008). \"The A-Z of Programming Languages: Python\". Computerworld. Archived from the original on 29 December 2008. Retrieved 31 March 2010.\n",
      "Lutz, Mark (2013). Learning Python (5th ed.). O'Reilly Media. ISBN 978-0-596-15806-4.\n",
      "Summerfield, Mark (2009). Programming in Python 3 (2nd ed.). Addison-Wesley Professional. ISBN 978-0-321-68056-3.\n",
      "Ramalho, Luciano (May 2022). Fluent Python. O'Reilly Media. ISBN 978-1-4920-5632-4.\n",
      "\n",
      "External links\n",
      "\n",
      "Official website\n"
     ]
    }
   ],
   "source": [
    "completo = wka.Wikipedia(\n",
    "    user_agent = f'PaginaCompletaPROTECO ({Cuenta.getCorreo()})',\n",
    "    language = 'en',\n",
    "    extract_format= wka.ExtractFormat.WIKI)\n",
    "\n",
    "contenido= completo.page('Python (programming language)')\n",
    "print(contenido.text)"
   ]
  },
  {
   "cell_type": "markdown",
   "id": "08af6173",
   "metadata": {},
   "source": [
    "## Extrayendo los links a las idiomas en los que se encuentra nuestro artículo"
   ]
  },
  {
   "cell_type": "code",
   "execution_count": 36,
   "id": "36c20f58",
   "metadata": {},
   "outputs": [],
   "source": [
    "def print_langlinks(page):\n",
    "        langlinks = page.langlinks\n",
    "        for k in sorted(langlinks.keys()):\n",
    "            v = langlinks[k]\n",
    "            print(f'{k}, {v.language}, {v.title}, {v.fullurl}\\n')"
   ]
  },
  {
   "cell_type": "code",
   "execution_count": 38,
   "id": "f3b401d6",
   "metadata": {
    "scrolled": true
   },
   "outputs": [
    {
     "name": "stdout",
     "output_type": "stream",
     "text": [
      "ace, ace, Java, https://ace.wikipedia.org/wiki/Java\n",
      "\n",
      "af, af, Java (programmeertaal), https://af.wikipedia.org/wiki/Java_(programmeertaal)\n",
      "\n",
      "am, am, ጃቫ, https://am.wikipedia.org/wiki/%E1%8C%83%E1%89%AB\n",
      "\n",
      "an, an, Luengache de programación Java, https://an.wikipedia.org/wiki/Luengache_de_programaci%C3%B3n_Java\n",
      "\n",
      "ar, ar, جافا (لغة برمجة), https://ar.wikipedia.org/wiki/%D8%AC%D8%A7%D9%81%D8%A7_(%D9%84%D8%BA%D8%A9_%D8%A8%D8%B1%D9%85%D8%AC%D8%A9)\n",
      "\n",
      "ary, ary, جاڤا, https://ary.wikipedia.org/wiki/%D8%AC%D8%A7%DA%A4%D8%A7\n",
      "\n",
      "arz, arz, جافا (لغة برمجه), https://arz.wikipedia.org/wiki/%D8%AC%D8%A7%D9%81%D8%A7_(%D9%84%D8%BA%D8%A9_%D8%A8%D8%B1%D9%85%D8%AC%D9%87)\n",
      "\n",
      "as, as, জাভা, https://as.wikipedia.org/wiki/%E0%A6%9C%E0%A6%BE%E0%A6%AD%E0%A6%BE\n",
      "\n",
      "ast, ast, Java (llinguaxe de programación), https://ast.wikipedia.org/wiki/Java_(llinguaxe_de_programaci%C3%B3n)\n",
      "\n",
      "az, az, Java, https://az.wikipedia.org/wiki/Java\n",
      "\n",
      "azb, azb, جاوا, https://azb.wikipedia.org/wiki/%D8%AC%D8%A7%D9%88%D8%A7\n",
      "\n",
      "bat-smg, bat-smg, Java, https://bat-smg.wikipedia.org/wiki/Java\n",
      "\n",
      "be, be, Java (мова праграмавання), https://be.wikipedia.org/wiki/Java_(%D0%BC%D0%BE%D0%B2%D0%B0_%D0%BF%D1%80%D0%B0%D0%B3%D1%80%D0%B0%D0%BC%D0%B0%D0%B2%D0%B0%D0%BD%D0%BD%D1%8F)\n",
      "\n",
      "be-x-old, be-x-old, Java, https://be-tarask.wikipedia.org/wiki/Java\n",
      "\n",
      "bg, bg, Java, https://bg.wikipedia.org/wiki/Java\n",
      "\n",
      "bn, bn, জাভা (প্রোগ্রামিং ভাষা), https://bn.wikipedia.org/wiki/%E0%A6%9C%E0%A6%BE%E0%A6%AD%E0%A6%BE_(%E0%A6%AA%E0%A7%8D%E0%A6%B0%E0%A7%8B%E0%A6%97%E0%A7%8D%E0%A6%B0%E0%A6%BE%E0%A6%AE%E0%A6%BF%E0%A6%82_%E0%A6%AD%E0%A6%BE%E0%A6%B7%E0%A6%BE)\n",
      "\n",
      "bs, bs, Java (programski jezik), https://bs.wikipedia.org/wiki/Java_(programski_jezik)\n",
      "\n",
      "bug, bug, Java, https://bug.wikipedia.org/wiki/Java\n",
      "\n",
      "ca, ca, Java (llenguatge de programació), https://ca.wikipedia.org/wiki/Java_(llenguatge_de_programaci%C3%B3)\n",
      "\n",
      "cdo, cdo, Java, https://cdo.wikipedia.org/wiki/Java\n",
      "\n",
      "ckb, ckb, جاڤا (زمانی بەرنامەسازی), https://ckb.wikipedia.org/wiki/%D8%AC%D8%A7%DA%A4%D8%A7_(%D8%B2%D9%85%D8%A7%D9%86%DB%8C_%D8%A8%DB%95%D8%B1%D9%86%D8%A7%D9%85%DB%95%D8%B3%D8%A7%D8%B2%DB%8C)\n",
      "\n",
      "co, co, Java, https://co.wikipedia.org/wiki/Java\n",
      "\n",
      "cs, cs, Java (programovací jazyk), https://cs.wikipedia.org/wiki/Java_(programovac%C3%AD_jazyk)\n",
      "\n",
      "cv, cv, Java (компьютер чĕлхи), https://cv.wikipedia.org/wiki/Java_(%D0%BA%D0%BE%D0%BC%D0%BF%D1%8C%D1%8E%D1%82%D0%B5%D1%80_%D1%87%C4%95%D0%BB%D1%85%D0%B8)\n",
      "\n",
      "cy, cy, Java (iaith rhaglennu), https://cy.wikipedia.org/wiki/Java_(iaith_rhaglennu)\n",
      "\n",
      "da, da, Java (programmeringssprog), https://da.wikipedia.org/wiki/Java_(programmeringssprog)\n",
      "\n",
      "de, de, Java (Programmiersprache), https://de.wikipedia.org/wiki/Java_(Programmiersprache)\n",
      "\n",
      "el, el, Java, https://el.wikipedia.org/wiki/Java\n",
      "\n",
      "en, en, Java (programming language), https://en.wikipedia.org/wiki/Java_(programming_language)\n",
      "\n",
      "eo, eo, Java (programlingvo), https://eo.wikipedia.org/wiki/Java_(programlingvo)\n",
      "\n",
      "et, et, Java, https://et.wikipedia.org/wiki/Java\n",
      "\n",
      "eu, eu, Java (programazio-lengoaia), https://eu.wikipedia.org/wiki/Java_(programazio-lengoaia)\n",
      "\n",
      "ext, ext, Java, https://ext.wikipedia.org/wiki/Java\n",
      "\n",
      "fa, fa, جاوا, https://fa.wikipedia.org/wiki/%D8%AC%D8%A7%D9%88%D8%A7\n",
      "\n",
      "fi, fi, Java, https://fi.wikipedia.org/wiki/Java\n",
      "\n",
      "fj, fj, Java, https://fj.wikipedia.org/wiki/Java\n",
      "\n",
      "fr, fr, Java (langage), https://fr.wikipedia.org/wiki/Java_(langage)\n",
      "\n",
      "ga, ga, Java, https://ga.wikipedia.org/wiki/Java\n",
      "\n",
      "gl, gl, Java (linguaxe de programación), https://gl.wikipedia.org/wiki/Java_(linguaxe_de_programaci%C3%B3n)\n",
      "\n",
      "gu, gu, જાવા (પ્રોગ્રામિંગ ભાષા), https://gu.wikipedia.org/wiki/%E0%AA%9C%E0%AA%BE%E0%AA%B5%E0%AA%BE_(%E0%AA%AA%E0%AB%8D%E0%AA%B0%E0%AB%8B%E0%AA%97%E0%AB%8D%E0%AA%B0%E0%AA%BE%E0%AA%AE%E0%AA%BF%E0%AA%82%E0%AA%97_%E0%AA%AD%E0%AA%BE%E0%AA%B7%E0%AA%BE)\n",
      "\n",
      "hak, hak, Java, https://hak.wikipedia.org/wiki/Java\n",
      "\n",
      "he, he, ג'אווה (שפת תכנות), https://he.wikipedia.org/wiki/%D7%92%27%D7%90%D7%95%D7%95%D7%94_(%D7%A9%D7%A4%D7%AA_%D7%AA%D7%9B%D7%A0%D7%95%D7%AA)\n",
      "\n",
      "hi, hi, जावा (प्रोग्रामिंग भाषा), https://hi.wikipedia.org/wiki/%E0%A4%9C%E0%A4%BE%E0%A4%B5%E0%A4%BE_(%E0%A4%AA%E0%A5%8D%E0%A4%B0%E0%A5%8B%E0%A4%97%E0%A5%8D%E0%A4%B0%E0%A4%BE%E0%A4%AE%E0%A4%BF%E0%A4%82%E0%A4%97_%E0%A4%AD%E0%A4%BE%E0%A4%B7%E0%A4%BE)\n",
      "\n",
      "hr, hr, Java (programski jezik), https://hr.wikipedia.org/wiki/Java_(programski_jezik)\n",
      "\n",
      "ht, ht, Java (enfòmatik), https://ht.wikipedia.org/wiki/Java_(enf%C3%B2matik)\n",
      "\n",
      "hu, hu, Java (programozási nyelv), https://hu.wikipedia.org/wiki/Java_(programoz%C3%A1si_nyelv)\n",
      "\n",
      "hy, hy, Ջավա, https://hy.wikipedia.org/wiki/%D5%8B%D5%A1%D5%BE%D5%A1\n",
      "\n",
      "ia, ia, Java (linguage de programmation), https://ia.wikipedia.org/wiki/Java_(linguage_de_programmation)\n",
      "\n",
      "id, id, Java, https://id.wikipedia.org/wiki/Java\n",
      "\n",
      "io, io, Java (programifo-linguo), https://io.wikipedia.org/wiki/Java_(programifo-linguo)\n",
      "\n",
      "is, is, Java (forritunarmál), https://is.wikipedia.org/wiki/Java_(forritunarm%C3%A1l)\n",
      "\n",
      "it, it, Java (linguaggio di programmazione), https://it.wikipedia.org/wiki/Java_(linguaggio_di_programmazione)\n",
      "\n",
      "ja, ja, Java, https://ja.wikipedia.org/wiki/Java\n",
      "\n",
      "ka, ka, ჯავა (პროგრამირების ენა), https://ka.wikipedia.org/wiki/%E1%83%AF%E1%83%90%E1%83%95%E1%83%90_(%E1%83%9E%E1%83%A0%E1%83%9D%E1%83%92%E1%83%A0%E1%83%90%E1%83%9B%E1%83%98%E1%83%A0%E1%83%94%E1%83%91%E1%83%98%E1%83%A1_%E1%83%94%E1%83%9C%E1%83%90)\n",
      "\n",
      "kaa, kaa, Java (programmalastırıw tili), https://kaa.wikipedia.org/wiki/Java_(programmalast%C4%B1r%C4%B1w_tili)\n",
      "\n",
      "kab, kab, Java (tutlayt), https://kab.wikipedia.org/wiki/Java_(tutlayt)\n",
      "\n",
      "kk, kk, Java (бағдарламалау тілі), https://kk.wikipedia.org/wiki/Java_(%D0%B1%D0%B0%D2%93%D0%B4%D0%B0%D1%80%D0%BB%D0%B0%D0%BC%D0%B0%D0%BB%D0%B0%D1%83_%D1%82%D1%96%D0%BB%D1%96)\n",
      "\n",
      "kn, kn, ಜಾವಾ, https://kn.wikipedia.org/wiki/%E0%B2%9C%E0%B2%BE%E0%B2%B5%E0%B2%BE\n",
      "\n",
      "ko, ko, 자바 (프로그래밍 언어), https://ko.wikipedia.org/wiki/%EC%9E%90%EB%B0%94_(%ED%94%84%EB%A1%9C%EA%B7%B8%EB%9E%98%EB%B0%8D_%EC%96%B8%EC%96%B4)\n",
      "\n",
      "ku, ku, Java (zimanê bernamesaziyê), https://ku.wikipedia.org/wiki/Java_(ziman%C3%AA_bernamesaziy%C3%AA)\n",
      "\n",
      "ky, ky, Java, https://ky.wikipedia.org/wiki/Java\n",
      "\n",
      "la, la, Java (lingua programmandi), https://la.wikipedia.org/wiki/Java_(lingua_programmandi)\n",
      "\n",
      "lij, lij, Java (lenguazzo), https://lij.wikipedia.org/wiki/Java_(lenguazzo)\n",
      "\n",
      "lmo, lmo, Java, https://lmo.wikipedia.org/wiki/Java\n",
      "\n",
      "lt, lt, Java (programavimo kalba), https://lt.wikipedia.org/wiki/Java_(programavimo_kalba)\n",
      "\n",
      "lv, lv, Java (programmēšanas valoda), https://lv.wikipedia.org/wiki/Java_(programm%C4%93%C5%A1anas_valoda)\n",
      "\n",
      "min, min, Java, https://min.wikipedia.org/wiki/Java\n",
      "\n",
      "mk, mk, Java (програмски јазик), https://mk.wikipedia.org/wiki/Java_(%D0%BF%D1%80%D0%BE%D0%B3%D1%80%D0%B0%D0%BC%D1%81%D0%BA%D0%B8_%D1%98%D0%B0%D0%B7%D0%B8%D0%BA)\n",
      "\n",
      "ml, ml, ജാവ (പ്രോഗ്രാമിങ് ഭാഷ), https://ml.wikipedia.org/wiki/%E0%B4%9C%E0%B4%BE%E0%B4%B5_(%E0%B4%AA%E0%B5%8D%E0%B4%B0%E0%B5%8B%E0%B4%97%E0%B5%8D%E0%B4%B0%E0%B4%BE%E0%B4%AE%E0%B4%BF%E0%B4%99%E0%B5%8D_%E0%B4%AD%E0%B4%BE%E0%B4%B7)\n",
      "\n",
      "mn, mn, Java, https://mn.wikipedia.org/wiki/Java\n",
      "\n",
      "mr, mr, जावा (आज्ञावली भाषा), https://mr.wikipedia.org/wiki/%E0%A4%9C%E0%A4%BE%E0%A4%B5%E0%A4%BE_(%E0%A4%86%E0%A4%9C%E0%A5%8D%E0%A4%9E%E0%A4%BE%E0%A4%B5%E0%A4%B2%E0%A5%80_%E0%A4%AD%E0%A4%BE%E0%A4%B7%E0%A4%BE)\n",
      "\n",
      "ms, ms, Java, https://ms.wikipedia.org/wiki/Java\n",
      "\n",
      "my, my, ဂျာဗား (ပရိုဂရမ်မင်းဘာသာစကား), https://my.wikipedia.org/wiki/%E1%80%82%E1%80%BB%E1%80%AC%E1%80%97%E1%80%AC%E1%80%B8_(%E1%80%95%E1%80%9B%E1%80%AD%E1%80%AF%E1%80%82%E1%80%9B%E1%80%99%E1%80%BA%E1%80%99%E1%80%84%E1%80%BA%E1%80%B8%E1%80%98%E1%80%AC%E1%80%9E%E1%80%AC%E1%80%85%E1%80%80%E1%80%AC%E1%80%B8)\n",
      "\n",
      "nb, nb, Java (programmeringsspråk), https://no.wikipedia.org/wiki/Java_(programmeringsspr%C3%A5k)\n",
      "\n",
      "ne, ne, जाभा, https://ne.wikipedia.org/wiki/%E0%A4%9C%E0%A4%BE%E0%A4%AD%E0%A4%BE\n",
      "\n",
      "nl, nl, Java (programmeertaal), https://nl.wikipedia.org/wiki/Java_(programmeertaal)\n",
      "\n",
      "nn, nn, Programmeringsspråket Java, https://nn.wikipedia.org/wiki/Programmeringsspr%C3%A5ket_Java\n",
      "\n",
      "oc, oc, Java (lengatge), https://oc.wikipedia.org/wiki/Java_(lengatge)\n",
      "\n",
      "or, or, ଜାଭା (ପ୍ରୋଗ୍ରାମିଂ ଭାଷା), https://or.wikipedia.org/wiki/%E0%AC%9C%E0%AC%BE%E0%AC%AD%E0%AC%BE_(%E0%AC%AA%E0%AD%8D%E0%AC%B0%E0%AD%8B%E0%AC%97%E0%AD%8D%E0%AC%B0%E0%AC%BE%E0%AC%AE%E0%AC%BF%E0%AC%82_%E0%AC%AD%E0%AC%BE%E0%AC%B7%E0%AC%BE)\n",
      "\n",
      "pa, pa, ਜਾਵਾ (ਪ੍ਰੋਗਰਾਮਿੰਗ ਭਾਸ਼ਾ), https://pa.wikipedia.org/wiki/%E0%A8%9C%E0%A8%BE%E0%A8%B5%E0%A8%BE_(%E0%A8%AA%E0%A9%8D%E0%A8%B0%E0%A9%8B%E0%A8%97%E0%A8%B0%E0%A8%BE%E0%A8%AE%E0%A8%BF%E0%A9%B0%E0%A8%97_%E0%A8%AD%E0%A8%BE%E0%A8%B8%E0%A8%BC%E0%A8%BE)\n",
      "\n",
      "pl, pl, Java, https://pl.wikipedia.org/wiki/Java\n",
      "\n",
      "pnb, pnb, جاوا (پروگرامنگ زبان), https://pnb.wikipedia.org/wiki/%D8%AC%D8%A7%D9%88%D8%A7_(%D9%BE%D8%B1%D9%88%DA%AF%D8%B1%D8%A7%D9%85%D9%86%DA%AF_%D8%B2%D8%A8%D8%A7%D9%86)\n",
      "\n",
      "pt, pt, Java (linguagem de programação), https://pt.wikipedia.org/wiki/Java_(linguagem_de_programa%C3%A7%C3%A3o)\n",
      "\n",
      "qu, qu, Java (wakichiy simi), https://qu.wikipedia.org/wiki/Java_(wakichiy_simi)\n",
      "\n",
      "ro, ro, Java (limbaj de programare), https://ro.wikipedia.org/wiki/Java_(limbaj_de_programare)\n",
      "\n",
      "ru, ru, Java, https://ru.wikipedia.org/wiki/Java\n",
      "\n",
      "sa, sa, जावा, https://sa.wikipedia.org/wiki/%E0%A4%9C%E0%A4%BE%E0%A4%B5%E0%A4%BE\n",
      "\n",
      "sah, sah, Java, https://sah.wikipedia.org/wiki/Java\n",
      "\n",
      "sd, sd, جاوا (پروگرامنگ جي ٻولي), https://sd.wikipedia.org/wiki/%D8%AC%D8%A7%D9%88%D8%A7_(%D9%BE%D8%B1%D9%88%DA%AF%D8%B1%D8%A7%D9%85%D9%86%DA%AF_%D8%AC%D9%8A_%D9%BB%D9%88%D9%84%D9%8A)\n",
      "\n",
      "sh, sh, Java (programski jezik), https://sh.wikipedia.org/wiki/Java_(programski_jezik)\n",
      "\n",
      "si, si, ජාවා (ක්‍රමලේඛන භාෂාව), https://si.wikipedia.org/wiki/%E0%B6%A2%E0%B7%8F%E0%B7%80%E0%B7%8F_(%E0%B6%9A%E0%B7%8A%E2%80%8D%E0%B6%BB%E0%B6%B8%E0%B6%BD%E0%B7%9A%E0%B6%9B%E0%B6%B1_%E0%B6%B7%E0%B7%8F%E0%B7%82%E0%B7%8F%E0%B7%80)\n",
      "\n",
      "simple, simple, Java (programming language), https://simple.wikipedia.org/wiki/Java_(programming_language)\n",
      "\n",
      "sk, sk, Java (programovací jazyk), https://sk.wikipedia.org/wiki/Java_(programovac%C3%AD_jazyk)\n",
      "\n",
      "sl, sl, Java (programski jezik), https://sl.wikipedia.org/wiki/Java_(programski_jezik)\n",
      "\n",
      "so, so, Java (luuqada borograaminta), https://so.wikipedia.org/wiki/Java_(luuqada_borograaminta)\n",
      "\n",
      "sq, sq, Java (gjuhë programimi), https://sq.wikipedia.org/wiki/Java_(gjuh%C3%AB_programimi)\n",
      "\n",
      "sr, sr, Java (програмски језик), https://sr.wikipedia.org/wiki/Java_(%D0%BF%D1%80%D0%BE%D0%B3%D1%80%D0%B0%D0%BC%D1%81%D0%BA%D0%B8_%D1%98%D0%B5%D0%B7%D0%B8%D0%BA)\n",
      "\n",
      "sv, sv, Java (programspråk), https://sv.wikipedia.org/wiki/Java_(programspr%C3%A5k)\n",
      "\n",
      "sw, sw, Java (lugha ya programu), https://sw.wikipedia.org/wiki/Java_(lugha_ya_programu)\n",
      "\n",
      "ta, ta, ஜாவா (நிரலாக்க மொழி), https://ta.wikipedia.org/wiki/%E0%AE%9C%E0%AE%BE%E0%AE%B5%E0%AE%BE_(%E0%AE%A8%E0%AE%BF%E0%AE%B0%E0%AE%B2%E0%AE%BE%E0%AE%95%E0%AF%8D%E0%AE%95_%E0%AE%AE%E0%AF%8A%E0%AE%B4%E0%AE%BF)\n",
      "\n",
      "te, te, జావా, https://te.wikipedia.org/wiki/%E0%B0%9C%E0%B0%BE%E0%B0%B5%E0%B0%BE\n",
      "\n",
      "th, th, ภาษาจาวา, https://th.wikipedia.org/wiki/%E0%B8%A0%E0%B8%B2%E0%B8%A9%E0%B8%B2%E0%B8%88%E0%B8%B2%E0%B8%A7%E0%B8%B2\n",
      "\n",
      "tl, tl, Java (wikang pamprograma), https://tl.wikipedia.org/wiki/Java_(wikang_pamprograma)\n",
      "\n",
      "tr, tr, Java, https://tr.wikipedia.org/wiki/Java\n",
      "\n",
      "tt, tt, Java, https://tt.wikipedia.org/wiki/Java\n",
      "\n",
      "uk, uk, Java, https://uk.wikipedia.org/wiki/Java\n",
      "\n",
      "ur, ur, جاوا (پروگرامنگ زبان), https://ur.wikipedia.org/wiki/%D8%AC%D8%A7%D9%88%D8%A7_(%D9%BE%D8%B1%D9%88%DA%AF%D8%B1%D8%A7%D9%85%D9%86%DA%AF_%D8%B2%D8%A8%D8%A7%D9%86)\n",
      "\n",
      "uz, uz, Java, https://uz.wikipedia.org/wiki/Java\n",
      "\n",
      "vec, vec, Java (lenguajo de programasion), https://vec.wikipedia.org/wiki/Java_(lenguajo_de_programasion)\n",
      "\n",
      "vi, vi, Java (ngôn ngữ lập trình), https://vi.wikipedia.org/wiki/Java_(ng%C3%B4n_ng%E1%BB%AF_l%E1%BA%ADp_tr%C3%ACnh)\n",
      "\n",
      "war, war, Java (linggwahe hin pagprograma), https://war.wikipedia.org/wiki/Java_(linggwahe_hin_pagprograma)\n",
      "\n",
      "wuu, wuu, Java, https://wuu.wikipedia.org/wiki/Java\n",
      "\n",
      "zh, zh, Java, https://zh.wikipedia.org/wiki/Java\n",
      "\n",
      "zh-classical, zh-classical, 爪哇程式語, https://zh-classical.wikipedia.org/wiki/%E7%88%AA%E5%93%87%E7%A8%8B%E5%BC%8F%E8%AA%9E\n",
      "\n",
      "zh-min-nan, zh-min-nan, Java (thêng-sek gí-giân), https://zh-min-nan.wikipedia.org/wiki/Java_(th%C3%AAng-sek_g%C3%AD-gi%C3%A2n)\n",
      "\n",
      "zh-yue, zh-yue, Java (程式語言), https://zh-yue.wikipedia.org/wiki/Java_(%E7%A8%8B%E5%BC%8F%E8%AA%9E%E8%A8%80)\n",
      "\n"
     ]
    }
   ],
   "source": [
    "wiki1 = wka.Wikipedia(f'PaginaCompletaPROTECO ({Cuenta.getCorreo()})', 'es')\n",
    "page1 = wiki1.page('Java (lenguaje de programación)')\n",
    "print_langlinks(page1)"
   ]
  },
  {
   "cell_type": "markdown",
   "id": "a7f561eb",
   "metadata": {},
   "source": [
    "#### print_langlinks() fue sacado de esta página: https://pypi.org/project/Wikipedia-API/"
   ]
  },
  {
   "cell_type": "code",
   "execution_count": null,
   "id": "5cada7dd",
   "metadata": {},
   "outputs": [],
   "source": []
  }
 ],
 "metadata": {
  "kernelspec": {
   "display_name": "Python 3 (ipykernel)",
   "language": "python",
   "name": "python3"
  },
  "language_info": {
   "codemirror_mode": {
    "name": "ipython",
    "version": 3
   },
   "file_extension": ".py",
   "mimetype": "text/x-python",
   "name": "python",
   "nbconvert_exporter": "python",
   "pygments_lexer": "ipython3",
   "version": "3.11.5"
  }
 },
 "nbformat": 4,
 "nbformat_minor": 5
}
