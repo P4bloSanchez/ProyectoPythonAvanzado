{
 "cells": [
  {
   "cell_type": "markdown",
   "metadata": {
    "id": "sHjMAHGcdYfQ"
   },
   "source": [
    "# Instrucciones.\n",
    "Proyecto de Python Avanzado. Realizar los siguientes ejercicios. Cada uno de ellos están planteados de tal manera que sean accesibles a ustedes.\n",
    "\n",
    "## Entrega.\n",
    "\n",
    "*  Fecha máxima de entrega **9  de febrero de 2024**.\n",
    "*  Entregarlo en un JupyterNotebook al menos que algun ejercicio indique que se tenga escribir un Script a parte y entregarlo en un archivo .py.\n",
    "Este útlimo puede usar el entorno de anaconda o si genera errores pueden usar Google Collab."
   ]
  },
  {
   "cell_type": "markdown",
   "metadata": {
    "id": "b1I_sYPieO0l"
   },
   "source": [
    "# Modulos.\n",
    "1. Crea una carpeta llamada \"módulos\" que incluya lo siguiente:\n",
    "    - El constructor del paquete (__init__.py)\n",
    "    - Un módulo que contenga en una clase las operaciones matemáticas de:\n",
    "        - Suma\n",
    "        - Resta\n",
    "        - Multiplicación\n",
    "        - División\n",
    "    - Un módulo que contenga una función la cual permita la adición de rutas absolutas para añadir módulos.\n",
    "    - Un módulo que verifique que se le pasó un argumento al ejecutar el script\n",
    "   Deben de poder importarse en el archivo main.py y verificar que funcionen."
   ]
  },
  {
   "cell_type": "code",
   "execution_count": null,
   "metadata": {
    "id": "csGqsBUKg0Le"
   },
   "outputs": [],
   "source": [
    "#ESCRIBE TU CÓDIGO AQUÍ"
   ]
  },
  {
   "cell_type": "code",
   "execution_count": null,
   "metadata": {
    "id": "ZzCek8g1il4w"
   },
   "outputs": [],
   "source": [
    "#EJEMPLO\n",
    "#from módulos.operaciones import OperacionesMatematicas\n",
    "\n",
    "#from módulos.ruta import agregar_ruta_absoluta\n",
    "#from módulos.verificacion import verificar_argumentos\n",
    "\n",
    "# Verificar que se pasaron argumentos al ejecutar el script\n",
    "\n",
    "\n",
    "# Añadir la ruta absoluta para añadir módulos (esto es solo un ejemplo, ajusta la ruta según tu estructura)\n",
    "\n",
    "\n",
    "# Crear una instancia de la clase OperacionesMatematicas\n",
    "\n",
    "\n",
    "# Realizar operaciones matemáticas\n",
    "\n"
   ]
  },
  {
   "cell_type": "markdown",
   "metadata": {
    "id": "l7CSJ6cEfeZq"
   },
   "source": [
    "# Modulos cientificos.\n",
    "## Numpy\n",
    "1. Cree dos vectores a,b,c de tamaño 3  (Tiene que tener 3 elementos) y realice la siguiente operación $A\\times B\\cdot C$. Pregunta ¿es lo mismo resultado  al hacer $A\\times C\\cdot B$ comparando con la primera operación? **Ayuda**. Usa numpy.cross (producto punto) y numpy.cross (producto cruz).\n",
    "### Errores númericos.\n",
    "2. El segundo ejercicio correponde a los errores númericos en Numpy que los algoritmos con bastante información pueden ser rotos o no funcionar muy bien.\n",
    "    * Definir dos matrices $A$ y $B$ llena de ceros de tammñao 100x100.\n",
    "    * Llenarlas con números aleatorios enteros de rango 0 a 1000 (**Sugerencia usar numpy.random.randint(0,1000)**)\n",
    "    * Una vez ya llenas las dos matrices tanto $A$ como $B$, definir una matriz $C$ que será el resultado de multiplicar las matrices $A\\cdot B$.\n",
    "    * Finalmente obten el determinante de la matriz $C$ ¿Qué resultado te arroja?\n",
    "3. Resuelva el siguiente sistema de ecuaciones.\n",
    "  \n",
    "  $x -4y +0z = 4\\\\ 3x+5y-6z=-9\\\\ 2x+4y+9z=2$"
   ]
  },
  {
   "cell_type": "code",
   "execution_count": null,
   "metadata": {
    "colab": {
     "base_uri": "https://localhost:8080/"
    },
    "id": "x-dfEdSaDXeZ",
    "outputId": "f1f124e5-c0d7-4a1a-ffc1-a6c0ab587d91"
   },
   "outputs": [
    {
     "name": "stdout",
     "output_type": "stream",
     "text": [
      "Resultado A x B · C: -100\n",
      "Resultado A · B x C 100\n",
      "Por lo tanto no es lo mismo\n"
     ]
    }
   ],
   "source": [
    "#Escribe tu código aquí\n",
    "#Ejercicio 1\n",
    "import numpy as np\n",
    "\n",
    "# Crear los vectores A, B y C de tamaño 3\n",
    "\n",
    "\n",
    "# Realizar la operación A x B · C\n",
    "\n",
    "\n"
   ]
  },
  {
   "cell_type": "code",
   "execution_count": null,
   "metadata": {
    "id": "2wFR6Q0d4oCc"
   },
   "outputs": [],
   "source": [
    "#Ejercicio 2\n",
    "\n"
   ]
  },
  {
   "cell_type": "code",
   "execution_count": null,
   "metadata": {
    "id": "hBEIDPg84n0B"
   },
   "outputs": [],
   "source": [
    "#Ejercicio 3"
   ]
  },
  {
   "cell_type": "markdown",
   "metadata": {
    "id": "md1Hr-W3O557"
   },
   "source": [
    "## Matplotlib.\n",
    "1. Hacer una gráfica con la documentación de matplotlib, de algún tema de su interés o su carrera\n",
    "\n",
    "2. Agregar instrucciones con las celdas tipo markdown, realizar multiples funciones en un mismo plano de diferentes estilos y colores. (Es decir, que pongan diferentes plots en un mismo plano pero con diferente estilo)"
   ]
  },
  {
   "cell_type": "code",
   "execution_count": null,
   "metadata": {
    "id": "DVRTjq8MO89l"
   },
   "outputs": [],
   "source": [
    "#Aquí escribe tu código"
   ]
  },
  {
   "cell_type": "markdown",
   "metadata": {
    "id": "rSotCY7EO_n1"
   },
   "source": [
    "## Pandas\n",
    "* Importe el siguiente dataset como un dataframe usando pandas, e imprimalo. https://raw.githubusercontent.com/akmand/datasets/main/airline_passenger_satisfaction.csv\n",
    "* Obtenga la información del dataframe.\n",
    "* Obtenga la descripción del dataframe.\n",
    "* Haga una gráfica de pastel comparando los datos de tipo de viaje (type_of travel) que ahí hay de dos tipos: *Business travel* y el *Personal Travel*. La sugerencia es que haga dos contadores. Uno para los viejes de negocio y otro para viajes personales. Ayuda: Use plt.pie(viajes,labels=['Viaje de negocios','Viaje personal'])\n",
    "\n",
    "  dict_viajes = {'Business Travel':contador_b,'Personal Travel':contador_p}\n",
    "\n",
    "  llaves = list(dict_viajes.keys())\n",
    "\n",
    "  valores = list(dict_viajes.values())\n",
    "\n",
    "  plt.pie(valores,labels=llaves)\n",
    "\n",
    "* Hacer un histograma donde este el genero de las personas que viajen y la edad.\n",
    "**Ayuda: ** data.pivot(columns='Gender', values='age').plot.hist(bins=\n",
    ",color=['',''],align='mid', edgecolor='').set_xlabel('Age')\n",
    "\n",
    "Donde los *bins* son las cajas del histograma y el edgecolor es la linea de color de borde."
   ]
  },
  {
   "cell_type": "code",
   "execution_count": null,
   "metadata": {
    "id": "eTtzG4aYF3YG"
   },
   "outputs": [],
   "source": [
    "#Escribir Aqui el código."
   ]
  },
  {
   "cell_type": "markdown",
   "metadata": {
    "id": "z83JpQ4jVU4k"
   },
   "source": []
  },
  {
   "cell_type": "code",
   "execution_count": null,
   "metadata": {
    "id": "Ol-DXRd6VUhu"
   },
   "outputs": [],
   "source": [
    "#Escribe tu código aquí."
   ]
  },
  {
   "cell_type": "markdown",
   "metadata": {
    "id": "YQFXFs_im5Fi"
   },
   "source": [
    "# Chatbots y Telegram\n",
    "Elabora un bot que pueda realizar operaciones básicas: suma,resta, multiplicación y división"
   ]
  },
  {
   "cell_type": "code",
   "execution_count": null,
   "metadata": {
    "id": "MdhlA_t3nEow"
   },
   "outputs": [],
   "source": [
    "#Escribe tu código aquí"
   ]
  },
  {
   "cell_type": "markdown",
   "metadata": {
    "id": "nqU6oFHK-xt3"
   },
   "source": [
    "*texto en cursiva*# implementen la api de wikipedia\n",
    "Crear un ejemplo del uso de esta API\n"
   ]
  },
  {
   "cell_type": "code",
   "execution_count": null,
   "metadata": {
    "id": "b4ysZiJ0Q_vA"
   },
   "outputs": [],
   "source": [
    "#Escribe tu código aquí"
   ]
  },
  {
   "cell_type": "markdown",
   "metadata": {
    "id": "Ba326MOZnIwj"
   },
   "source": [
    "# API. Youtbe. Ejercicio Extra. Extraer datos de Youtube\n",
    "### Cuenta de desarrollo Google for developers requeridas.\n",
    "### Cuenta sobre +2 puntos extra en el proyecto.\n",
    "\n",
    "Vamos a extraer datos de Youtube, para ello necesitaras tu clave para Google for Developers, si quieres para la entraga la puedas dejar vacia y nada más deja los resultados de la salida de las celdas o si vas a borrarla después puedes dejarla con tranquilidad, nadie hará mal uso de tus datos.\n",
    "\n",
    "**WARNINGS (ADVERTENCIAS) o recomendaciones**:\n",
    "* Busquen canales de youtube que su contenido sea para el público.\n",
    "* Si un elemento no tiene por ejemplo en una portada o algo. Usen try-except y llenen el espacio de su dataFrame con None, NaN. Al final para lo de más pueden agregar un dropna para limpiar esos datos.\n",
    "* El código que hice está disponible en la cuanta de Github de el becario Juan Angeles con la artista Hatsune Miku. Dejo el [link](https://github.com/JohnKun136NVCP/Curso-Python/tree/master/Ejemplos/Avanzado/Apis) por si lo quieren visualizar. (Carpeta Ejemplos/Avanzado/APIS)\n"
   ]
  },
  {
   "cell_type": "code",
   "execution_count": 1,
   "metadata": {
    "colab": {
     "base_uri": "https://localhost:8080/",
     "height": 390
    },
    "id": "ikr0gov1ng_r",
    "outputId": "795c2cfe-398d-49d5-feec-99a0a98e6cae"
   },
   "outputs": [
    {
     "ename": "ImportError",
     "errorDetails": {
      "actions": [
       {
        "action": "open_url",
        "actionText": "Open Examples",
        "url": "/notebooks/snippets/importing_libraries.ipynb"
       }
      ]
     },
     "evalue": "cannot import name 'build' from 'googleapiclient' (/usr/local/lib/python3.10/dist-packages/googleapiclient/__init__.py)",
     "output_type": "error",
     "traceback": [
      "\u001b[0;31m---------------------------------------------------------------------------\u001b[0m",
      "\u001b[0;31mImportError\u001b[0m                               Traceback (most recent call last)",
      "\u001b[0;32m<ipython-input-1-e287d45c3937>\u001b[0m in \u001b[0;36m<cell line: 2>\u001b[0;34m()\u001b[0m\n\u001b[1;32m      1\u001b[0m \u001b[0;31m#Importamos los modulos correspondientes\u001b[0m\u001b[0;34m\u001b[0m\u001b[0;34m\u001b[0m\u001b[0m\n\u001b[0;32m----> 2\u001b[0;31m \u001b[0;32mfrom\u001b[0m \u001b[0mgoogleapiclient\u001b[0m \u001b[0;32mimport\u001b[0m \u001b[0mbuild\u001b[0m\u001b[0;34m\u001b[0m\u001b[0;34m\u001b[0m\u001b[0m\n\u001b[0m\u001b[1;32m      3\u001b[0m \u001b[0;32mfrom\u001b[0m \u001b[0mdatetime\u001b[0m \u001b[0;32mimport\u001b[0m \u001b[0mdatetime\u001b[0m\u001b[0;34m\u001b[0m\u001b[0;34m\u001b[0m\u001b[0m\n\u001b[1;32m      4\u001b[0m \u001b[0mgoogle_api_key\u001b[0m \u001b[0;34m=\u001b[0m \u001b[0;34m''\u001b[0m\u001b[0;31m#Tu clave aqui\u001b[0m\u001b[0;34m\u001b[0m\u001b[0;34m\u001b[0m\u001b[0m\n\u001b[1;32m      5\u001b[0m \u001b[0myoutube\u001b[0m \u001b[0;34m=\u001b[0m \u001b[0mbuild\u001b[0m\u001b[0;34m(\u001b[0m\u001b[0;34m'youtube'\u001b[0m\u001b[0;34m,\u001b[0m\u001b[0;34m'v3'\u001b[0m\u001b[0;34m,\u001b[0m\u001b[0mdeveloperKey\u001b[0m \u001b[0;34m=\u001b[0m \u001b[0mgoogle_api_key\u001b[0m\u001b[0;34m)\u001b[0m\u001b[0;34m\u001b[0m\u001b[0;34m\u001b[0m\u001b[0m\n",
      "\u001b[0;31mImportError\u001b[0m: cannot import name 'build' from 'googleapiclient' (/usr/local/lib/python3.10/dist-packages/googleapiclient/__init__.py)",
      "",
      "\u001b[0;31m---------------------------------------------------------------------------\u001b[0;32m\nNOTE: If your import is failing due to a missing package, you can\nmanually install dependencies using either !pip or !apt.\n\nTo view examples of installing some common dependencies, click the\n\"Open Examples\" button below.\n\u001b[0;31m---------------------------------------------------------------------------\u001b[0m\n"
     ]
    }
   ],
   "source": [
    "#Importamos los modulos correspondientes\n",
    "from googleapiclient import build\n",
    "from datetime import datetime\n",
    "google_api_key = ''#Tu clave aqui\n",
    "youtube = build('youtube','v3',developerKey = google_api_key)"
   ]
  },
  {
   "cell_type": "code",
   "execution_count": null,
   "metadata": {
    "id": "UvX_A0z2oCXT"
   },
   "outputs": [],
   "source": [
    "#Vamos a ver las estadisticas de un canal -> Escoge el que tu quieras.\n",
    "request = youtube.channels().list(\n",
    "    part='statistics',\n",
    "    forUsername = '' #Nombre de tu canal que quieras hacer la recopilacion de datos. (Sugerencia: uno de música)\n",
    ")\n",
    "response = request.execute()\n",
    "response"
   ]
  },
  {
   "cell_type": "code",
   "execution_count": null,
   "metadata": {
    "id": "MNbifkcjof0I"
   },
   "outputs": [],
   "source": [
    "#Notemos que podemos tener informacion del canal usando su ID\n",
    "#¿Cómo lo obtenemos? Lo que nos regresó anteriormente es un diccionarios de diccionarios\n",
    "#Suena enrredado pero mediante el acceso por indices se facilita más las cosas\n",
    "id_youtube = response['items'][0]['id'] #Accediendo por un ID.\n",
    "id_youtube"
   ]
  },
  {
   "cell_type": "code",
   "execution_count": null,
   "metadata": {
    "id": "JrWVGstupYQK"
   },
   "outputs": [],
   "source": [
    "#Ahora con este id podemos tener sus listas de reproducción\n",
    "play_list = youtube.playlists().list(\n",
    "    part = 'contentDetails,snippet', #Datos de contenido de la listas de reproduccion\n",
    "    channelId = id_youtube,\n",
    "    maxResults=200 #Maximo resultados. Si hay más de 200 solo mostrará 200 resultados\n",
    ")\n",
    "play_list_result = play_list.execute()\n",
    "play_list_result"
   ]
  },
  {
   "cell_type": "code",
   "execution_count": null,
   "metadata": {
    "id": "Ja6bohD0p2Dq"
   },
   "outputs": [],
   "source": [
    "#Ahora vamos a obtener todos los resultados de las estas listas o el contenido de ellas\n",
    "totalPlaylist = []\n",
    "while play_list is not None: #Simpre y cuando no sean nulas.\n",
    "    play_list_result = play_list.execute()\n",
    "    totalPlaylist += play_list_result['items']\n",
    "    play_list = youtube.playlists().list_next(play_list, play_list_result)\n",
    "\n",
    "print(f\"total: {len(totalPlaylist)}\") #Total de listas de reproduccion\n",
    "totalPlaylist #Contenido -> La salida es una lista de diccionarios."
   ]
  },
  {
   "cell_type": "code",
   "execution_count": null,
   "metadata": {
    "id": "K8j6GeZgqOIk"
   },
   "outputs": [],
   "source": [
    "#Si accedemos por indices veremos que esto se puede apreciar más\n",
    "totalPlaylist[1]['id'] #El id de la segunda lista"
   ]
  },
  {
   "cell_type": "code",
   "execution_count": null,
   "metadata": {
    "id": "zLjf-OG8qjcb"
   },
   "outputs": [],
   "source": [
    "#Youtube tiene un formato de tiempo un poco extraño para verlo en la hora normal\n",
    "#lo que haremos es hacer una función que nos convierta ese horario extraño a\n",
    "#uno que podamos ver y entender\n",
    "def timestream(time):\n",
    "    time = time.replace(\"T\",\"\").replace(\"Z\",\"\") #Quitamos la T y Z del string\n",
    "    date,hour = time[0:10],time[11:21] #separamos entre fecha y hora\n",
    "    time = '{} {}'.format(date ,hour) #Lo concatenamos en una forma diferente\n",
    "    datetime_object = datetime.strptime(time, \"%Y-%m-%d %H:%M:%S\") #Aplicamos una funcion de datetime para convertirlo en formato de hora\n",
    "    return datetime_object #Retornamos la hora del objeto"
   ]
  },
  {
   "cell_type": "code",
   "execution_count": null,
   "metadata": {
    "id": "IlZvKzKprTjC"
   },
   "outputs": [],
   "source": [
    "#En este apartado vamos a obtener varias cosas como:\n",
    "# ID, titulo de la lista de reproduccion, No. Canciones, Fecha, la imagen de portada de la lista de reproduccion\n",
    "from datetime import datetime\n",
    "playlist_ids = []\n",
    "playlist_name = []\n",
    "playlist_pictureStandard = []\n",
    "playlist_timepublish = []\n",
    "playlist_noSongs = []\n",
    "for j in range(0,len(totalPlaylist)):\n",
    "    playlist_ids.append(totalPlaylist[j]['id'])\n",
    "    playlist_name.append(totalPlaylist[j]['snippet']['title'])\n",
    "    playlist_pictureStandard.append(totalPlaylist[j]['snippet']['thumbnails']['standard']['url'])\n",
    "    playlist_timepublish.append(timestream(totalPlaylist[j]['snippet']['publishedAt'])) #Aqui aplicamos nuestra funcion para tener un objeto datetime\n",
    "    playlist_noSongs.append(totalPlaylist[j]['contentDetails']['itemCount'])"
   ]
  },
  {
   "cell_type": "code",
   "execution_count": null,
   "metadata": {
    "id": "9pWrr1w6rzQ1"
   },
   "outputs": [],
   "source": [
    "#Ahora aplicando el concocimiento de Pandas generemos un dataFrame con esos elementos\n",
    "import pandas as pd\n",
    "dataframe = {'Ids de playlists':playlist_ids,\n",
    "             'Titulos de playlist':playlist_name,\n",
    "             'Numero de canciones':playlist_noSongs,\n",
    "             'Uri':playlist_pictureStandard,\n",
    "             'Fecha publicacion':playlist_timepublish}\n",
    "df = pd.DataFrame(data=dataframe)\n",
    "df"
   ]
  },
  {
   "cell_type": "code",
   "execution_count": null,
   "metadata": {
    "id": "oUIoDhIIsCx_"
   },
   "outputs": [],
   "source": [
    "#Si nos damos cuenta de algo, es muy simple y es un poco de texto en la Urls\n",
    "#de las imagenes, podemos hacerlo más presentable convirtiendo el dataFrame en HTML.\n",
    "from IPython.core.display import HTML\n",
    "def a_img_tg(url):\n",
    "    return '<img src=\"'+ url + '\" width=\"100\" >'\n",
    "display(HTML(df.to_html(escape=False,formatters=dict(Uri=a_img_tg))))"
   ]
  },
  {
   "cell_type": "markdown",
   "metadata": {
    "id": "ePPkP39susN8"
   },
   "source": [
    "## Obtengamos las duraciones por cada lista.\n",
    "En este caso agregaremos un parametro más, el tiempo de duración y hacerlo en un dataframe diferentes"
   ]
  },
  {
   "cell_type": "code",
   "execution_count": null,
   "metadata": {
    "id": "nKeb2S9zsaqf"
   },
   "outputs": [],
   "source": [
    "playlists_total = [] #Guardar la información de cada lista de reproducción\n",
    "for i in range(0,len(playlist_ids)):\n",
    "    details_playlist = youtube.playlistItems().list(\n",
    "        part = 'contentDetails',\n",
    "        playlistId  = playlist_ids[i], #Pedir los detalles por cada lista.\n",
    "        maxResults=200 #Maximo de resultados.\n",
    "    )\n",
    "    playlistIdResult  = details_playlist.execute() #Hacemos la petición a Google.\n",
    "    playlists_total.append(playlistIdResult) # agregamos los resultados a la lista."
   ]
  },
  {
   "cell_type": "code",
   "execution_count": null,
   "metadata": {
    "id": "I1AyADUK3Alt"
   },
   "outputs": [],
   "source": [
    "#Imprimamos los resultados.\n",
    "for i in range(0,len(playlists_total)):\n",
    "    for item in playlists_total[i]['items']:\n",
    "        print(item)\n",
    "    print()"
   ]
  },
  {
   "cell_type": "code",
   "execution_count": null,
   "metadata": {
    "id": "VUnQpEQt3rKB"
   },
   "outputs": [],
   "source": [
    "#Veremos que puede ser un poco grande en tener cada lista de producción y sacar\n",
    "#el tiempo de reproducción manualmente por cada lista. Para solucionar este\n",
    "#problema usaremos listas vacias en listas vacias, es decir, generaremos listas\n",
    "#vacias entro de una lista ¿Cuántas listas vacias? Será por cada lista de reproduccion.\n",
    "#El resultado son listas vacias que almacenaremos los ids de los videos por\n",
    "#cada lista de reproducción\n",
    "rangePlayList = [[] for _ in range(0,len(playlists_total))]\n",
    "rangePlayList"
   ]
  },
  {
   "cell_type": "code",
   "execution_count": null,
   "metadata": {
    "id": "Z2aMXsx64UO5"
   },
   "outputs": [],
   "source": [
    "#Ahora almacenaremos los elementos en cada lista vacia.\n",
    "for i in range(0,len(playlists_total)):\n",
    "    for item in playlists_total[i]['items']:\n",
    "        vd = item['contentDetails']['videoId']\n",
    "        if i==i:\n",
    "            rangePlayList[i].append(vd)\n",
    "rangePlayList#Lista de ids por lista de reproduccion"
   ]
  },
  {
   "cell_type": "code",
   "execution_count": null,
   "metadata": {
    "id": "A24rwhSo4c1K"
   },
   "outputs": [],
   "source": [
    "#Definamos ahora una función para que sea más efectivo en que nos regrese los\n",
    "#detalles de cada video por cada lista de reproducción y solamente la llamemos\n",
    "#cuando sea necesario hacer una petición a Google.\n",
    "def videos_reponse(id_videos):\n",
    "    video_request  = youtube.videos().list(\n",
    "        part='contentDetails',\n",
    "        id=','.join(id_videos)\n",
    "    )\n",
    "    video_data = video_request.execute()\n",
    "    return video_data #Regresa la información de cada video usando su id"
   ]
  },
  {
   "cell_type": "code",
   "execution_count": null,
   "metadata": {
    "id": "5BspsPFz465p"
   },
   "outputs": [],
   "source": [
    "#obtencion de la duracion de los videos->duration\n",
    "playlist1_videos = videos_reponse(rangePlayList[0]) #En este ejemplo es para la lista 1 y sus videos\n",
    "playlist2_videos = videos_reponse(rangePlayList[1]) #En este para la lista 2 y sus ejemplos\n",
    "for item in playlist1_videos['items']:\n",
    "    duration = item['contentDetails']['duration']\n",
    "    print(duration)#Formato de Youtube será la duración que veremos que nos da un formato no reconocible\n",
    "    print()"
   ]
  },
  {
   "cell_type": "code",
   "execution_count": null,
   "metadata": {
    "id": "rxSygJ_N5OR7"
   },
   "outputs": [],
   "source": [
    "#Aquí empezaremos a hablar de Expresiones Regulares\n",
    "#Dejaré aquí la documentación correspondiente.\n",
    "#https://docs.python.org/es/3/howto/regex.html\n",
    "import re\n",
    "hours_re = re.compile(r'(\\d+)H')\n",
    "minuntes_re = re.compile(r'(\\d+)M')\n",
    "seconds_re = re.compile(r'(\\d+)S')\n",
    "for item in playlist1_videos['items']:\n",
    "    duration = item['contentDetails']['duration']\n",
    "    horas = hours_re.search(duration)\n",
    "    minutos = minuntes_re.search(duration)\n",
    "    segundos = seconds_re.search(duration)\n",
    "    print(horas,minutos,segundos)\n",
    "    print()"
   ]
  },
  {
   "cell_type": "code",
   "execution_count": null,
   "metadata": {
    "id": "8_I1AGHU5nuo"
   },
   "outputs": [],
   "source": [
    "#Cuando ejecutamos la celda de arriba veremos que tenemos en match = 'H'\n",
    "#minutos y finalmente los segundos pero seguimos teniendo el problema en\n",
    "#poder visualizarlo de manera más con detalle\n",
    "#Para ello vamos a arreglar este for usando métodos que si no hay horas\n",
    "#o minutos (pueden ser una lista de shorts) regrese un 0\n",
    "for item in playlist1_videos['items']:\n",
    "    duration = item['contentDetails']['duration']\n",
    "    horas = hours_re.search(duration)\n",
    "    minutos = minuntes_re.search(duration)\n",
    "    segundos = seconds_re.search(duration)\n",
    "    #Si no tenemos horas o minutos extensos\n",
    "    horas = int(horas.group(1)) if horas else 0\n",
    "    minutos = int(minutos.group(1)) if minutos else 0\n",
    "    segundos = int(segundos.group(1)) if segundos else 0\n",
    "    print(horas,minutos,segundos)\n",
    "    print()\n"
   ]
  },
  {
   "cell_type": "code",
   "execution_count": null,
   "metadata": {
    "id": "b__68wXA6Caf"
   },
   "outputs": [],
   "source": [
    "#Veremos que es un poco más entendible pero ahora no es tan claro.\n",
    "#Vemos que tenemos que hacer esto por cada lista de reproducción,\n",
    "#hagamos esto para n-videos. Definiremos una funcion de nos regrese\n",
    "#el tiempo en formato de tiempo o la reproducción entre los segundos\n",
    "#totales,es decir, si en una lista hay dos videos de 1hr entonces regre-\n",
    "#sará 7200 segundos.\n",
    "from datetime import timedelta #Transformar tiempo a segundos\n",
    "def timevideosPlaylist(playlist):\n",
    "    time_videos = []#Tiempo de cada video por cada lista de reproduccion.\n",
    "\n",
    "    for item in playlist['items']:\n",
    "        duration = item['contentDetails']['duration']\n",
    "        horas = hours_re.search(duration)\n",
    "        minutos = minuntes_re.search(duration)\n",
    "        segundos = seconds_re.search(duration)\n",
    "        horas = int(horas.group(1)) if horas else 0\n",
    "        minutos = int(minutos.group(1)) if minutos else 0\n",
    "        segundos = int(segundos.group(1)) if segundos else 0\n",
    "        #Por cada video\n",
    "        video_segundos = timedelta(\n",
    "            hours = horas,\n",
    "            minutes = minutos,\n",
    "            seconds = segundos\n",
    "        ).total_seconds()\n",
    "        #Por cada video de la lista de reproduccion\n",
    "        time_videos.append(video_segundos)\n",
    "    total_reproduction = int(sum(time_videos))\n",
    "    minutos,segundos =divmod(total_reproduction,60)\n",
    "    horas,minutos = divmod(minutos,60)\n",
    "    total_reproduction = f'{horas}:{minutos}:{segundos}' #Formato H:M:S\n",
    "    return [time_videos,total_reproduction]\n",
    "\n",
    "timevideosPlaylist(playlist2_videos) #Tenemos resultados para la segunda lista de reproduccion para cada n-video."
   ]
  },
  {
   "cell_type": "code",
   "execution_count": null,
   "metadata": {
    "id": "BjUQCulZ7H6w"
   },
   "outputs": [],
   "source": [
    "#Obtengamos la suma de cada lista resproducción con todos los videos usando la\n",
    "#función que vimos arriba y aplicando esta función que nos resgresará una lista\n",
    "#y cada elemento será en formato de hora de cada lista de reproducción en el canal\n",
    "def timeStreamingChannels(listaTotales):\n",
    "    timeStreaming_seconds = []\n",
    "    for item in listaTotales:\n",
    "        plt= videos_reponse(item)\n",
    "        time = timevideosPlaylist(plt)[1] #Obtenemos el formato de hora.\n",
    "        timeStreaming_seconds.append(time)\n",
    "    return timeStreaming_seconds\n",
    "timeStreamingChannels(rangePlayList) #Lo usamos para toda la lista de reproducciones del canal"
   ]
  },
  {
   "cell_type": "code",
   "execution_count": null,
   "metadata": {
    "id": "aFipflxV7qHv"
   },
   "outputs": [],
   "source": [
    "#Finalmente volveremos a correr el código  y añadiendo una columna donde podamos\n",
    "#visualizar el tiempod de duración de cada lisa de reproducción en total\n",
    "duration = timeStreamingChannels(rangePlayList)\n",
    "df['Duracion'] = duration #Agregamos una nueva columna con los datos al dataFrame\n",
    "from IPython.core.display import HTML\n",
    "def a_img_tg(url):\n",
    "    return '<img src=\"'+ url + '\" width=\"150\" >'\n",
    "display(HTML(df.to_html(escape=False,formatters=dict(Uri=a_img_tg))))"
   ]
  },
  {
   "cell_type": "markdown",
   "metadata": {
    "id": "-eikPDZq78A_"
   },
   "source": [
    "### Lista de reproducción con su video de más Likes.\n",
    "Ahora ya tenemos todas las listas de producción pero ¿Cuál de todos esos videos que conforman a la lista es el más popular?"
   ]
  },
  {
   "cell_type": "code",
   "execution_count": null,
   "metadata": {
    "id": "jYhNcQBS76iH"
   },
   "outputs": [],
   "source": [
    "#Vamos a definir las dos funciones faltantes para obtener este resultado.\n",
    "#La primera nos hará la petición por cada video de sus estadísticas y propiedades de\n",
    "#estilo o dieseño. La segundo será para obtener los likes en los videos.\n",
    "\n",
    "#Estadisticas por cada video\n",
    "def stadistics_video(id_videos):\n",
    "    video_request  = youtube.videos().list(\n",
    "        part='statistics,snippet',\n",
    "        id=','.join(id_videos)\n",
    "    )\n",
    "    video_data = video_request.execute()\n",
    "    return video_data\n",
    "#Solucion por decorador\n",
    "def likesvideos_per_playlist(function):\n",
    "    video_view = []#Tiempo de cada video por cada lista de reproduccion.\n",
    "    for item in function['items']:\n",
    "        likes = item['statistics']['likeCount'] #Likes de videos\n",
    "        video_id = item['id'] #Id del video\n",
    "        name_video = item['snippet']['title'] #Titulo el video\n",
    "        yt_link = f'https://youtu.be/{video_id}'#Link del video\n",
    "        video_view.append({'title':name_video,\n",
    "                            'likeCount':int(likes),\n",
    "                           'url':yt_link}) #Diccionario donde se almacen los datos anteriores\n",
    "    video_view.sort(key=lambda vid:vid['likeCount'],reverse=True) #Este método lo que hacemos es ordenarlos de mayor a menor todos sus elementos\n",
    "    return video_view #Retornamos el diccionario con los videos ordenados con mayores likes por cada lista de reproducción"
   ]
  },
  {
   "cell_type": "code",
   "execution_count": null,
   "metadata": {
    "id": "cSweWtZ-9W0G"
   },
   "outputs": [],
   "source": [
    "pl1_staditic  = stadistics_video(rangePlayList[0])\n",
    "view_plst = likesvideos_per_playlist(pl1_staditic)"
   ]
  },
  {
   "cell_type": "code",
   "execution_count": null,
   "metadata": {
    "id": "5xirW9yO9Y97"
   },
   "outputs": [],
   "source": [
    "#Si nos damos cuenta de algo, es que como regrese un diccionario podemos jugar\n",
    "#con los indices obteniendo los likes, el link y titulo como podemos ver aquí\n",
    "view_plst[0]['likeCount'],view_plst[0]['url'],view_plst[0]['title']"
   ]
  },
  {
   "cell_type": "code",
   "execution_count": null,
   "metadata": {
    "id": "aUhS4Ndw9qsM"
   },
   "outputs": [],
   "source": [
    "#Vamos organizarlo de una manera mejor y finalmente que quede indexado en nuetro dataframe\n",
    "def mostPopularSongbyPL(listasCanal):\n",
    "    name_popularvid = [] #Lista de los videos más populares\n",
    "    liked_list = [] #Lista de likes\n",
    "    url_list = [] #Urls de los videos\n",
    "    noneHit = None #En el caso que no hubiera información de ello\n",
    "    for i in listasCanal:\n",
    "        staditica = stadistics_video(i) #Llamamos la función de arriba\n",
    "        try: #Si hay elementos disponibles llenamos las listas\n",
    "            liked = likesvideos_per_playlist(staditica)\n",
    "            name_popularvid.append(liked[0]['title'])\n",
    "            liked_list.append(liked[0]['likeCount'])\n",
    "            url_list.append(liked[0]['url'])\n",
    "        except:# En el caso que no hubiera un elemento(s) para tratar ese error se hará listas nulas como se observará\n",
    "            name_popularvid.append(noneHit)\n",
    "            liked_list.append(noneHit)\n",
    "            url_list.append(noneHit)\n",
    "    return [name_popularvid,liked_list,url_list] #Regresamos los nombres,likes y las urls de los videos\n",
    "mostPopularSongbyPL(rangePlayList)"
   ]
  },
  {
   "cell_type": "code",
   "execution_count": null,
   "metadata": {
    "id": "t4XxsaOK-TzG"
   },
   "outputs": [],
   "source": [
    "#Para visualizar los links se puedan dar click a que hacer una pequeña modificacion\n",
    "#Pero primero indexamos los elementos al dataFrame que teníamos\n",
    "df['Nombre de Hit'],df['Likes'],df['UrlHit'] = mostPopularSongbyPL(rangePlayList)[0],mostPopularSongbyPL(rangePlayList)[1],mostPopularSongbyPL(rangePlayList)[2]\n",
    "display(HTML(df.to_html(escape=False,render_links=True,formatters=dict(Uri=a_img_tg)))) #render_links = True lo permite."
   ]
  }
 ],
 "metadata": {
  "colab": {
   "provenance": []
  },
  "kernelspec": {
   "display_name": "Python 3 (ipykernel)",
   "language": "python",
   "name": "python3"
  },
  "language_info": {
   "codemirror_mode": {
    "name": "ipython",
    "version": 3
   },
   "file_extension": ".py",
   "mimetype": "text/x-python",
   "name": "python",
   "nbconvert_exporter": "python",
   "pygments_lexer": "ipython3",
   "version": "3.11.5"
  }
 },
 "nbformat": 4,
 "nbformat_minor": 1
}
